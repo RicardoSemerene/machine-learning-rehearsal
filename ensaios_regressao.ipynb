{
 "cells": [
  {
   "cell_type": "code",
   "execution_count": 68,
   "metadata": {},
   "outputs": [],
   "source": [
    "import pandas as pd\n",
    "import numpy as np\n",
    "from sklearn.metrics import r2_score, mean_squared_error, mean_absolute_error\n",
    "from sklearn import tree as tr\n",
    "from sklearn.ensemble import RandomForestRegressor\n",
    "from sklearn import linear_model as lm\n",
    "from sklearn.metrics import r2_score, mean_squared_error, mean_absolute_error\n",
    "from sklearn import preprocessing as pp"
   ]
  },
  {
   "cell_type": "code",
   "execution_count": 2,
   "metadata": {},
   "outputs": [],
   "source": [
    "x_train = pd.read_csv('datasets/X_training_reg.csv')\n",
    "y_train = pd.read_csv('datasets/y_training_reg.csv')\n",
    "\n",
    "x_val = pd.read_csv('datasets/X_validation_reg.csv')\n",
    "y_val = pd.read_csv('datasets/y_validation_reg.csv')\n",
    "\n",
    "x_test = pd.read_csv('datasets/X_test_reg.csv')\n",
    "y_test = pd.read_csv('datasets/y_test_reg.csv')"
   ]
  },
  {
   "attachments": {},
   "cell_type": "markdown",
   "metadata": {},
   "source": [
    "# 0.0 Ensaios de Machine Learning - Regressão"
   ]
  },
  {
   "attachments": {},
   "cell_type": "markdown",
   "metadata": {},
   "source": [
    "# 1.0 Linear Regression"
   ]
  },
  {
   "attachments": {},
   "cell_type": "markdown",
   "metadata": {},
   "source": [
    "## 1.1 Train"
   ]
  },
  {
   "cell_type": "code",
   "execution_count": 12,
   "metadata": {},
   "outputs": [
    {
     "name": "stdout",
     "output_type": "stream",
     "text": [
      "R²: 0.04605830473391903\n",
      "MSE: 455.99611182562677\n",
      "RMSE: 21.35406546364478\n",
      "MAE: 16.998249066011095\n",
      "MAPE: 865.3185943804513\n"
     ]
    }
   ],
   "source": [
    "#model definition\n",
    "lr_model_train = lm.LinearRegression()\n",
    "\n",
    "#model training\n",
    "lr_model_train.fit(x_train, y_train)\n",
    "\n",
    "#model predict\n",
    "yhat_lr_train = lr_model_train.predict(x_train)\n",
    "\n",
    "# Calcular R²\n",
    "r2 = r2_score(y_train, yhat_lr_train)\n",
    "\n",
    "# Calcular MSE\n",
    "mse = mean_squared_error(y_train, yhat_lr_train)\n",
    "\n",
    "# Calcular RMSE\n",
    "rmse = np.sqrt(mse)\n",
    "\n",
    "# Calcular MAE\n",
    "mae = mean_absolute_error(y_train, yhat_lr_train)\n",
    "\n",
    "# Calcular MAPE\n",
    "mape = np.mean(np.abs((y_train - yhat_lr_train) / y_train)) * 100\n",
    "\n",
    "print(\"R²:\", r2)\n",
    "print(\"MSE:\", mse)\n",
    "print(\"RMSE:\", rmse)\n",
    "print(\"MAE:\", mae)\n",
    "print(\"MAPE:\", mape)"
   ]
  },
  {
   "attachments": {},
   "cell_type": "markdown",
   "metadata": {},
   "source": [
    "## 1.2 Validation"
   ]
  },
  {
   "cell_type": "code",
   "execution_count": 44,
   "metadata": {},
   "outputs": [
    {
     "name": "stdout",
     "output_type": "stream",
     "text": [
      "R²: 0.03992483038154071\n",
      "MSE: 458.4470418439312\n",
      "RMSE: 21.41137645841414\n",
      "MAE: 17.039753759960327\n",
      "MAPE: 868.2541883735295\n"
     ]
    }
   ],
   "source": [
    "#model definition\n",
    "lr_model_val = lm.LinearRegression()\n",
    "\n",
    "#model training\n",
    "lr_model_val.fit(x_train, y_train)\n",
    "\n",
    "#model predict\n",
    "yhat_lr_val = lr_model_val.predict(x_val)\n",
    "\n",
    "# Calcular R²\n",
    "r2 = r2_score(y_val, yhat_lr_val)\n",
    "\n",
    "# Calcular MSE\n",
    "mse = mean_squared_error(y_val, yhat_lr_val)\n",
    "\n",
    "# Calcular RMSE\n",
    "rmse = np.sqrt(mse)\n",
    "\n",
    "# Calcular MAE\n",
    "mae = mean_absolute_error(y_val, yhat_lr_val)\n",
    "\n",
    "# Calcular MAPE\n",
    "mape = mt.mean_absolute_percentage_error(y_val, yhat_lr_val)*100\n",
    "\n",
    "print(\"R²:\", r2)\n",
    "print(\"MSE:\", mse)\n",
    "print(\"RMSE:\", rmse)\n",
    "print(\"MAE:\", mae)\n",
    "print(\"MAPE:\", mape)"
   ]
  },
  {
   "attachments": {},
   "cell_type": "markdown",
   "metadata": {},
   "source": [
    "## 1.3 Test"
   ]
  },
  {
   "cell_type": "code",
   "execution_count": 57,
   "metadata": {},
   "outputs": [
    {
     "name": "stdout",
     "output_type": "stream",
     "text": [
      "R²: 0.05116551777115064\n",
      "MSE: 461.9884353525593\n",
      "RMSE: 21.4939162404751\n",
      "MAE: 17.144197086987703\n",
      "MAPE: 853.1355027820084\n"
     ]
    },
    {
     "name": "stderr",
     "output_type": "stream",
     "text": [
      "c:\\Users\\rseme\\anaconda3\\envs\\ensaiosML\\lib\\site-packages\\sklearn\\base.py:457: UserWarning: X has feature names, but LinearRegression was fitted without feature names\n",
      "  warnings.warn(\n"
     ]
    }
   ],
   "source": [
    "#model definition\n",
    "lr_model_test = lm.LinearRegression()\n",
    "\n",
    "#model training\n",
    "lr_model_test.fit(np.concatenate((x_train,x_val)),np.concatenate((y_train,y_val)))\n",
    "\n",
    "#model predict\n",
    "yhat_lr_test = lr_model_test.predict(x_test)\n",
    "\n",
    "# Calcular R²\n",
    "r2 = r2_score(y_test, yhat_lr_test)\n",
    "\n",
    "# Calcular MSE\n",
    "mse = mean_squared_error(y_test, yhat_lr_test)\n",
    "\n",
    "# Calcular RMSE\n",
    "rmse = np.sqrt(mse)\n",
    "\n",
    "# Calcular MAE\n",
    "mae = mean_absolute_error(y_test, yhat_lr_test)\n",
    "\n",
    "# Calcular MAPE\n",
    "mape = mt.mean_absolute_percentage_error(y_test, yhat_lr_test)*100\n",
    "\n",
    "print(\"R²:\", r2)\n",
    "print(\"MSE:\", mse)\n",
    "print(\"RMSE:\", rmse)\n",
    "print(\"MAE:\", mae)\n",
    "print(\"MAPE:\", mape)"
   ]
  },
  {
   "attachments": {},
   "cell_type": "markdown",
   "metadata": {},
   "source": [
    "# 2.0 Linear Regression Lasso\n"
   ]
  },
  {
   "attachments": {},
   "cell_type": "markdown",
   "metadata": {},
   "source": [
    "## 2.1 Train"
   ]
  },
  {
   "cell_type": "code",
   "execution_count": 32,
   "metadata": {},
   "outputs": [
    {
     "name": "stdout",
     "output_type": "stream",
     "text": [
      "R²: 0.007400905609184383\n",
      "MSE: 474.47483414340275\n",
      "RMSE: 21.782443254681112\n",
      "MAE: 17.305483795260546\n",
      "MAPE: 873.6697313910927\n"
     ]
    }
   ],
   "source": [
    "#model definition\n",
    "lasso_train = lm.Lasso(alpha= 1, max_iter=20)\n",
    "\n",
    "#model training\n",
    "lasso_train.fit(x_train, y_train)\n",
    "\n",
    "#model predict\n",
    "yhat_lasso_train = lasso_train.predict(x_train)\n",
    "\n",
    "# Calcular R²\n",
    "r2 = mt.r2_score(y_train, yhat_lasso_train)\n",
    "\n",
    "# Calcular MSE\n",
    "mse = mt.mean_squared_error(y_train, yhat_lasso_train)\n",
    "\n",
    "# Calcular RMSE\n",
    "rmse = np.sqrt(mse)\n",
    "\n",
    "# Calcular MAE\n",
    "mae = mt.mean_absolute_error(y_train, yhat_lasso_train)\n",
    "\n",
    "# Calcular MAPE\n",
    "mape = mt.mean_absolute_percentage_error(y_train, yhat_lasso_train)*100\n",
    "\n",
    "print(\"R²:\", r2)\n",
    "print(\"MSE:\", mse)\n",
    "print(\"RMSE:\", rmse)\n",
    "print(\"MAE:\", mae)\n",
    "print(\"MAPE:\", mape)"
   ]
  },
  {
   "attachments": {},
   "cell_type": "markdown",
   "metadata": {},
   "source": [
    "## 2.2 Validation"
   ]
  },
  {
   "cell_type": "code",
   "execution_count": 45,
   "metadata": {},
   "outputs": [
    {
     "name": "stdout",
     "output_type": "stream",
     "text": [
      "R²: 0.007883642924698453\n",
      "MSE: 473.7470809154487\n",
      "RMSE: 21.76573180289256\n",
      "MAE: 17.26492176467576\n",
      "MAPE: 869.5808367641687\n"
     ]
    }
   ],
   "source": [
    "#model definition\n",
    "lasso_val = lm.Lasso(alpha= 1, max_iter=20)\n",
    "\n",
    "#model training\n",
    "lasso_val.fit(x_train, y_train)\n",
    "\n",
    "#model predict\n",
    "yhat_lasso_val = lasso_val.predict(x_val)\n",
    "\n",
    "# Calcular R²\n",
    "r2 = r2_score(y_val, yhat_lasso_val)\n",
    "\n",
    "# Calcular MSE\n",
    "mse = mean_squared_error(y_val, yhat_lasso_val)\n",
    "\n",
    "# Calcular RMSE\n",
    "rmse = np.sqrt(mse)\n",
    "\n",
    "# Calcular MAE\n",
    "mae = mean_absolute_error(y_val, yhat_lasso_val)\n",
    "\n",
    "# Calcular MAPE\n",
    "mape = mt.mean_absolute_percentage_error(y_val, yhat_lasso_val)*100\n",
    "\n",
    "print(\"R²:\", r2)\n",
    "print(\"MSE:\", mse)\n",
    "print(\"RMSE:\", rmse)\n",
    "print(\"MAE:\", mae)\n",
    "print(\"MAPE:\", mape)"
   ]
  },
  {
   "attachments": {},
   "cell_type": "markdown",
   "metadata": {},
   "source": [
    "## 2.3 Test"
   ]
  },
  {
   "cell_type": "code",
   "execution_count": 65,
   "metadata": {},
   "outputs": [
    {
     "name": "stdout",
     "output_type": "stream",
     "text": [
      "R²: 0.005075665725816858\n",
      "MSE: 484.4296292919244\n",
      "RMSE: 22.00976213619594\n",
      "MAE: 17.498950242988105\n",
      "MAPE: 873.5813004196574\n"
     ]
    },
    {
     "name": "stderr",
     "output_type": "stream",
     "text": [
      "c:\\Users\\rseme\\anaconda3\\envs\\ensaiosML\\lib\\site-packages\\sklearn\\base.py:457: UserWarning: X has feature names, but Lasso was fitted without feature names\n",
      "  warnings.warn(\n"
     ]
    }
   ],
   "source": [
    "#model definition\n",
    "lasso_test = lm.Lasso(alpha= 1.5, max_iter=25)\n",
    "\n",
    "#model training\n",
    "lasso_test.fit(np.concatenate((x_train,x_val)),np.concatenate((y_train,y_val)))\n",
    "\n",
    "#model predict\n",
    "yhat_lasso_test = lasso_test.predict(x_test)\n",
    "\n",
    "# Calcular R²\n",
    "r2 = r2_score(y_test, yhat_lasso_test)\n",
    "\n",
    "# Calcular MSE\n",
    "mse = mean_squared_error(y_test, yhat_lasso_test)\n",
    "\n",
    "# Calcular RMSE\n",
    "rmse = np.sqrt(mse)\n",
    "\n",
    "# Calcular MAE\n",
    "mae = mean_absolute_error(y_test, yhat_lasso_test)\n",
    "\n",
    "# Calcular MAPE\n",
    "mape = mt.mean_absolute_percentage_error(y_test, yhat_lasso_test)*100\n",
    "\n",
    "print(\"R²:\", r2)\n",
    "print(\"MSE:\", mse)\n",
    "print(\"RMSE:\", rmse)\n",
    "print(\"MAE:\", mae)\n",
    "print(\"MAPE:\", mape)"
   ]
  },
  {
   "attachments": {},
   "cell_type": "markdown",
   "metadata": {},
   "source": [
    "# 3.0 Linear Regresion Ridge"
   ]
  },
  {
   "attachments": {},
   "cell_type": "markdown",
   "metadata": {},
   "source": [
    "## 3.1 Train"
   ]
  },
  {
   "cell_type": "code",
   "execution_count": 39,
   "metadata": {},
   "outputs": [
    {
     "name": "stdout",
     "output_type": "stream",
     "text": [
      "R²: 0.04531150253341154\n",
      "MSE: 456.35309265728995\n",
      "RMSE: 21.36242244356407\n",
      "MAE: 17.005749247699285\n",
      "MAPE: 866.0451693953174\n"
     ]
    }
   ],
   "source": [
    "#model definition\n",
    "ridge_train = lm.Ridge(alpha= 50, max_iter=70)\n",
    "\n",
    "#model training\n",
    "ridge_train.fit(x_train, y_train)\n",
    "\n",
    "#model predict\n",
    "yhat_ridge_train = ridge_train.predict(x_train)\n",
    "\n",
    "# Calcular R²\n",
    "r2 = mt.r2_score(y_train, yhat_ridge_train)\n",
    "\n",
    "# Calcular MSE\n",
    "mse = mt.mean_squared_error(y_train, yhat_ridge_train)\n",
    "\n",
    "# Calcular RMSE\n",
    "rmse = np.sqrt(mse)\n",
    "\n",
    "# Calcular MAE\n",
    "mae = mt.mean_absolute_error(y_train, yhat_ridge_train)\n",
    "\n",
    "# Calcular MAPE\n",
    "mape = mt.mean_absolute_percentage_error(y_train, yhat_ridge_train)*100\n",
    "\n",
    "print(\"R²:\", r2)\n",
    "print(\"MSE:\", mse)\n",
    "print(\"RMSE:\", rmse)\n",
    "print(\"MAE:\", mae)\n",
    "print(\"MAPE:\", mape)"
   ]
  },
  {
   "attachments": {},
   "cell_type": "markdown",
   "metadata": {},
   "source": [
    "## 3.2 Validation"
   ]
  },
  {
   "cell_type": "code",
   "execution_count": 46,
   "metadata": {},
   "outputs": [
    {
     "name": "stdout",
     "output_type": "stream",
     "text": [
      "R²: 0.03966410706988821\n",
      "MSE: 458.571540252753\n",
      "RMSE: 21.414283556840115\n",
      "MAE: 17.033837534014822\n",
      "MAPE: 867.7734296103736\n"
     ]
    }
   ],
   "source": [
    "#model definition\n",
    "ridge_val = lm.Ridge(alpha= 50, max_iter=70)\n",
    "\n",
    "#model training\n",
    "ridge_val.fit(x_train, y_train)\n",
    "\n",
    "#model predict\n",
    "yhat_ridge_val = ridge_val.predict(x_val)\n",
    "\n",
    "# Calcular R²\n",
    "r2 = r2_score(y_val, yhat_ridge_val)\n",
    "\n",
    "# Calcular MSE\n",
    "mse = mean_squared_error(y_val, yhat_ridge_val)\n",
    "\n",
    "# Calcular RMSE\n",
    "rmse = np.sqrt(mse)\n",
    "\n",
    "# Calcular MAE\n",
    "mae = mean_absolute_error(y_val, yhat_ridge_val)\n",
    "\n",
    "# Calcular MAPE\n",
    "mape = mt.mean_absolute_percentage_error(y_val, yhat_ridge_val)*100\n",
    "\n",
    "print(\"R²:\", r2)\n",
    "print(\"MSE:\", mse)\n",
    "print(\"RMSE:\", rmse)\n",
    "print(\"MAE:\", mae)\n",
    "print(\"MAPE:\", mape)"
   ]
  },
  {
   "attachments": {},
   "cell_type": "markdown",
   "metadata": {},
   "source": [
    "## 3.3 Test"
   ]
  },
  {
   "cell_type": "code",
   "execution_count": 66,
   "metadata": {},
   "outputs": [
    {
     "name": "stdout",
     "output_type": "stream",
     "text": [
      "R²: 0.050416762324914655\n",
      "MSE: 462.3530051100323\n",
      "RMSE: 21.502395334242003\n",
      "MAE: 17.143105068975387\n",
      "MAPE: 855.7461705979345\n"
     ]
    },
    {
     "name": "stderr",
     "output_type": "stream",
     "text": [
      "c:\\Users\\rseme\\anaconda3\\envs\\ensaiosML\\lib\\site-packages\\sklearn\\base.py:457: UserWarning: X has feature names, but Ridge was fitted without feature names\n",
      "  warnings.warn(\n"
     ]
    }
   ],
   "source": [
    "#model definition\n",
    "ridge_test = lm.Ridge(alpha= 50, max_iter=70)\n",
    "\n",
    "#model training\n",
    "ridge_test.fit(np.concatenate((x_train,x_val)),np.concatenate((y_train,y_val)))\n",
    "\n",
    "#model predict\n",
    "yhat_ridge_test = ridge_test.predict(x_test)\n",
    "\n",
    "# Calcular R²\n",
    "r2 = r2_score(y_test, yhat_ridge_test)\n",
    "\n",
    "# Calcular MSE\n",
    "mse = mean_squared_error(y_test, yhat_ridge_test)\n",
    "\n",
    "# Calcular RMSE\n",
    "rmse = np.sqrt(mse)\n",
    "\n",
    "# Calcular MAE\n",
    "mae = mean_absolute_error(y_test, yhat_ridge_test)\n",
    "\n",
    "# Calcular MAPE\n",
    "mape = mt.mean_absolute_percentage_error(y_test, yhat_ridge_test)*100\n",
    "\n",
    "print(\"R²:\", r2)\n",
    "print(\"MSE:\", mse)\n",
    "print(\"RMSE:\", rmse)\n",
    "print(\"MAE:\", mae)\n",
    "print(\"MAPE:\", mape)"
   ]
  },
  {
   "attachments": {},
   "cell_type": "markdown",
   "metadata": {},
   "source": [
    "# 4.0 Linear Regression Elastic Net"
   ]
  },
  {
   "attachments": {},
   "cell_type": "markdown",
   "metadata": {},
   "source": [
    "## 4.1 Train"
   ]
  },
  {
   "cell_type": "code",
   "execution_count": 56,
   "metadata": {},
   "outputs": [
    {
     "name": "stdout",
     "output_type": "stream",
     "text": [
      "R²: 0.010045210365922541\n",
      "MSE: 473.2108232572675\n",
      "RMSE: 21.753409462823697\n",
      "MAE: 17.2817996610326\n",
      "MAPE: 872.2386751983894\n"
     ]
    }
   ],
   "source": [
    "#model definition\n",
    "elastic_train = lm.ElasticNet(alpha=1,l1_ratio=0.1)\n",
    "\n",
    "#model training\n",
    "elastic_train.fit(x_train, y_train)\n",
    "\n",
    "#model predict\n",
    "yhat_elastic_train = elastic_train.predict(x_train)\n",
    "\n",
    "# Calcular R²\n",
    "r2 = mt.r2_score(y_train, yhat_elastic_train)\n",
    "\n",
    "# Calcular MSE\n",
    "mse = mt.mean_squared_error(y_train, yhat_elastic_train)\n",
    "\n",
    "# Calcular RMSE\n",
    "rmse = np.sqrt(mse)\n",
    "\n",
    "# Calcular MAE\n",
    "mae = mt.mean_absolute_error(y_train, yhat_elastic_train)\n",
    "\n",
    "# Calcular MAPE\n",
    "mape = mt.mean_absolute_percentage_error(y_train, yhat_elastic_train)*100\n",
    "\n",
    "print(\"R²:\", r2)\n",
    "print(\"MSE:\", mse)\n",
    "print(\"RMSE:\", rmse)\n",
    "print(\"MAE:\", mae)\n",
    "print(\"MAPE:\", mape)"
   ]
  },
  {
   "attachments": {},
   "cell_type": "markdown",
   "metadata": {},
   "source": [
    "## 4.2 Validation"
   ]
  },
  {
   "cell_type": "code",
   "execution_count": 52,
   "metadata": {},
   "outputs": [
    {
     "name": "stdout",
     "output_type": "stream",
     "text": [
      "R²: 0.007883642924698453\n",
      "MSE: 473.7470809154487\n",
      "RMSE: 21.76573180289256\n",
      "MAE: 17.26492176467576\n",
      "MAPE: 869.5808367641687\n"
     ]
    }
   ],
   "source": [
    "#model definition\n",
    "elastic_val = lm.ElasticNet(alpha=1,l1_ratio=1)\n",
    "\n",
    "#model training\n",
    "elastic_val.fit(x_train, y_train)\n",
    "\n",
    "#model predict\n",
    "yhat_elastic_val = elastic_val.predict(x_val)\n",
    "\n",
    "# Calcular R²\n",
    "r2 = r2_score(y_val, yhat_elastic_val)\n",
    "\n",
    "# Calcular MSE\n",
    "mse = mean_squared_error(y_val, yhat_elastic_val)\n",
    "\n",
    "# Calcular RMSE\n",
    "rmse = np.sqrt(mse)\n",
    "\n",
    "# Calcular MAE\n",
    "mae = mean_absolute_error(y_val, yhat_elastic_val)\n",
    "\n",
    "# Calcular MAPE\n",
    "mape = mt.mean_absolute_percentage_error(y_val, yhat_elastic_val)*100\n",
    "\n",
    "print(\"R²:\", r2)\n",
    "print(\"MSE:\", mse)\n",
    "print(\"RMSE:\", rmse)\n",
    "print(\"MAE:\", mae)\n",
    "print(\"MAPE:\", mape)"
   ]
  },
  {
   "attachments": {},
   "cell_type": "markdown",
   "metadata": {},
   "source": [
    "## 4.3 Test"
   ]
  },
  {
   "cell_type": "code",
   "execution_count": 92,
   "metadata": {},
   "outputs": [
    {
     "name": "stdout",
     "output_type": "stream",
     "text": [
      "R²: 0.007813836681452746\n",
      "MSE: 483.09641118147954\n",
      "RMSE: 21.979454296717186\n",
      "MAE: 17.143105068975387\n",
      "MAPE: 855.7461705979345\n"
     ]
    },
    {
     "name": "stderr",
     "output_type": "stream",
     "text": [
      "c:\\Users\\rseme\\anaconda3\\envs\\ensaiosML\\lib\\site-packages\\sklearn\\base.py:457: UserWarning: X has feature names, but ElasticNet was fitted without feature names\n",
      "  warnings.warn(\n"
     ]
    }
   ],
   "source": [
    "#model definition\n",
    "elastic_test = lm.ElasticNet(alpha=1,l1_ratio=1)\n",
    "\n",
    "#model training\n",
    "elastic_test.fit(np.concatenate((x_train,x_val)),np.concatenate((y_train,y_val)))\n",
    "\n",
    "#model predict\n",
    "yhat_elastic_test = elastic_test.predict(x_test)\n",
    "\n",
    "# Calcular R²\n",
    "r2 = r2_score(y_test, yhat_elastic_test)\n",
    "\n",
    "# Calcular MSE\n",
    "mse = mean_squared_error(y_test, yhat_elastic_test)\n",
    "\n",
    "# Calcular RMSE\n",
    "rmse = np.sqrt(mse)\n",
    "\n",
    "# Calcular MAE\n",
    "mae = mean_absolute_error(y_test, yhat_ridge_test)\n",
    "\n",
    "# Calcular MAPE\n",
    "mape = mt.mean_absolute_percentage_error(y_test, yhat_ridge_test)*100\n",
    "\n",
    "print(\"R²:\", r2)\n",
    "print(\"MSE:\", mse)\n",
    "print(\"RMSE:\", rmse)\n",
    "print(\"MAE:\", mae)\n",
    "print(\"MAPE:\", mape)"
   ]
  },
  {
   "attachments": {},
   "cell_type": "markdown",
   "metadata": {},
   "source": [
    "# 5.0 Polinomial Regression"
   ]
  },
  {
   "attachments": {},
   "cell_type": "markdown",
   "metadata": {},
   "source": [
    "## 5.1 Train"
   ]
  },
  {
   "cell_type": "code",
   "execution_count": 73,
   "metadata": {},
   "outputs": [
    {
     "name": "stdout",
     "output_type": "stream",
     "text": [
      "R²: 0.09419491057528084\n",
      "MSE: 432.9862096386579\n",
      "RMSE: 20.80832068280999\n",
      "MAE: 16.45803175582444\n",
      "MAPE: 835.0539820928132\n"
     ]
    }
   ],
   "source": [
    "#model definition\n",
    "pr_train = pp.PolynomialFeatures(degree= 2)\n",
    "\n",
    "# poli fi\n",
    "x_train_pr = pr_train.fit_transform(x_train)\n",
    "\n",
    "# Linear regression\n",
    "lr = lm.LinearRegression()\n",
    "\n",
    "#model training\n",
    "lr.fit(x_train_pr, y_train)\n",
    "\n",
    "#model predict\n",
    "yhat_lr_train = lr.predict(x_train_pr)\n",
    "\n",
    "# Calcular R²\n",
    "r2 = mt.r2_score(y_train, yhat_lr_train)\n",
    "\n",
    "# Calcular MSE\n",
    "mse = mt.mean_squared_error(y_train, yhat_lr_train)\n",
    "\n",
    "# Calcular RMSE\n",
    "rmse = np.sqrt(mse)\n",
    "\n",
    "# Calcular MAE\n",
    "mae = mt.mean_absolute_error(y_train, yhat_lr_train)\n",
    "\n",
    "# Calcular MAPE\n",
    "mape = mt.mean_absolute_percentage_error(y_train, yhat_lr_train)*100\n",
    "\n",
    "print(\"R²:\", r2)\n",
    "print(\"MSE:\", mse)\n",
    "print(\"RMSE:\", rmse)\n",
    "print(\"MAE:\", mae)\n",
    "print(\"MAPE:\", mape)"
   ]
  },
  {
   "attachments": {},
   "cell_type": "markdown",
   "metadata": {},
   "source": [
    "## 5.2 Validation"
   ]
  },
  {
   "cell_type": "code",
   "execution_count": 78,
   "metadata": {},
   "outputs": [
    {
     "name": "stdout",
     "output_type": "stream",
     "text": [
      "R²: 0.06647668389711581\n",
      "MSE: 445.7682234712758\n",
      "RMSE: 21.113223900467588\n",
      "MAE: 16.749939090484034\n",
      "MAPE: 854.7931034605392\n"
     ]
    }
   ],
   "source": [
    "#model definition\n",
    "pr_val = pp.PolynomialFeatures(degree= 2)\n",
    "\n",
    "# poli fi\n",
    "x_val_pr = pr_val.fit_transform(x_val)\n",
    "\n",
    "# Linear regression\n",
    "lr = lm.LinearRegression()\n",
    "\n",
    "#model training\n",
    "lr.fit(x_train_pr, y_train)\n",
    "\n",
    "#model predict\n",
    "yhat_lr_val = lr.predict(x_val_pr)\n",
    "\n",
    "# Calcular R²\n",
    "r2 = mt.r2_score(y_val, yhat_lr_val)\n",
    "\n",
    "# Calcular MSE\n",
    "mse = mt.mean_squared_error(y_val, yhat_lr_val)\n",
    "\n",
    "# Calcular RMSE\n",
    "rmse = np.sqrt(mse)\n",
    "\n",
    "# Calcular MAE\n",
    "mae = mt.mean_absolute_error(y_val, yhat_lr_val)\n",
    "\n",
    "# Calcular MAPE\n",
    "mape = mt.mean_absolute_percentage_error(y_val, yhat_lr_val)*100\n",
    "\n",
    "print(\"R²:\", r2)\n",
    "print(\"MSE:\", mse)\n",
    "print(\"RMSE:\", rmse)\n",
    "print(\"MAE:\", mae)\n",
    "print(\"MAPE:\", mape)"
   ]
  },
  {
   "attachments": {},
   "cell_type": "markdown",
   "metadata": {},
   "source": [
    "## 5.3 Test"
   ]
  },
  {
   "cell_type": "code",
   "execution_count": 85,
   "metadata": {},
   "outputs": [
    {
     "name": "stdout",
     "output_type": "stream",
     "text": [
      "R²: 0.09007934329901002\n",
      "MSE: 443.0412557275441\n",
      "RMSE: 21.048545216416837\n",
      "MAE: 16.72053502598755\n",
      "MAPE: 824.2463577057904\n"
     ]
    }
   ],
   "source": [
    "#model definition\n",
    "pr_test = pp.PolynomialFeatures(degree= 2)\n",
    "\n",
    "# poli fi\n",
    "x_test_pr = pr_test.fit_transform(x_test)\n",
    "\n",
    "# Linear regression\n",
    "lr = lm.LinearRegression()\n",
    "\n",
    "#model training\n",
    "lr.fit(x_train_pr, y_train)\n",
    "\n",
    "#model predict\n",
    "yhat_lr_test = lr.predict(x_test_pr)\n",
    "\n",
    "# Calcular R²\n",
    "r2 = mt.r2_score(y_test, yhat_lr_test)\n",
    "\n",
    "# Calcular MSE\n",
    "mse = mt.mean_squared_error(y_test, yhat_lr_test)\n",
    "\n",
    "# Calcular RMSE\n",
    "rmse = np.sqrt(mse)\n",
    "\n",
    "# Calcular MAE\n",
    "mae = mt.mean_absolute_error(y_test, yhat_lr_test)\n",
    "\n",
    "# Calcular MAPE\n",
    "mape = mt.mean_absolute_percentage_error(y_test, yhat_lr_test)*100\n",
    "\n",
    "print(\"R²:\", r2)\n",
    "print(\"MSE:\", mse)\n",
    "print(\"RMSE:\", rmse)\n",
    "print(\"MAE:\", mae)\n",
    "print(\"MAPE:\", mape)"
   ]
  },
  {
   "attachments": {},
   "cell_type": "markdown",
   "metadata": {},
   "source": [
    "# 6.0 Polinomial Regression Lasso"
   ]
  },
  {
   "attachments": {},
   "cell_type": "markdown",
   "metadata": {},
   "source": [
    "## 6.1 Train"
   ]
  },
  {
   "cell_type": "code",
   "execution_count": 74,
   "metadata": {},
   "outputs": [
    {
     "name": "stdout",
     "output_type": "stream",
     "text": [
      "R²: 0.009149935251170582\n",
      "MSE: 473.6387760067563\n",
      "RMSE: 21.763243692215468\n",
      "MAE: 17.285449661261286\n",
      "MAPE: 869.9700898061744\n"
     ]
    }
   ],
   "source": [
    "#model definition\n",
    "pr_train = pp.PolynomialFeatures(degree= 2)\n",
    "\n",
    "# poli fi\n",
    "x_train_pr = pr_train.fit_transform(x_train)\n",
    "\n",
    "# Linear regression\n",
    "lr_lasso_train = lm.Lasso(alpha= 1, max_iter=20)\n",
    "\n",
    "#model training\n",
    "lr_lasso_train.fit(x_train_pr, y_train)\n",
    "\n",
    "#model predict\n",
    "yhat_lr_lasso_train = lr_lasso_train.predict(x_train_pr)\n",
    "\n",
    "# Calcular R²\n",
    "r2 = mt.r2_score(y_train, yhat_lr_lasso_train)\n",
    "\n",
    "# Calcular MSE\n",
    "mse = mt.mean_squared_error(y_train, yhat_lr_lasso_train)\n",
    "\n",
    "# Calcular RMSE\n",
    "rmse = np.sqrt(mse)\n",
    "\n",
    "# Calcular MAE\n",
    "mae = mt.mean_absolute_error(y_train, yhat_lr_lasso_train)\n",
    "\n",
    "# Calcular MAPE\n",
    "mape = mt.mean_absolute_percentage_error(y_train, yhat_lr_lasso_train)*100\n",
    "\n",
    "print(\"R²:\", r2)\n",
    "print(\"MSE:\", mse)\n",
    "print(\"RMSE:\", rmse)\n",
    "print(\"MAE:\", mae)\n",
    "print(\"MAPE:\", mape)"
   ]
  },
  {
   "attachments": {},
   "cell_type": "markdown",
   "metadata": {},
   "source": [
    "## 6.2 Validation"
   ]
  },
  {
   "cell_type": "code",
   "execution_count": 81,
   "metadata": {},
   "outputs": [
    {
     "name": "stdout",
     "output_type": "stream",
     "text": [
      "R²: 0.009631007774810185\n",
      "MSE: 472.91269390919564\n",
      "RMSE: 21.746555909136408\n",
      "MAE: 17.238378728440562\n",
      "MAPE: 868.1846557814456\n"
     ]
    }
   ],
   "source": [
    "#model definition\n",
    "pr_val = pp.PolynomialFeatures(degree= 2)\n",
    "\n",
    "# poli fi\n",
    "x_val_pr = pr_train.fit_transform(x_val)\n",
    "\n",
    "# Linear regression\n",
    "lr_lasso_val = lm.Lasso(alpha= 1, max_iter=20)\n",
    "\n",
    "#model training\n",
    "lr_lasso_val.fit(x_train_pr, y_train)\n",
    "\n",
    "#model predict\n",
    "yhat_lr_lasso_val = lr_lasso_train.predict(x_val_pr)\n",
    "\n",
    "# Calcular R²\n",
    "r2 = mt.r2_score(y_val, yhat_lr_lasso_val)\n",
    "\n",
    "# Calcular MSE\n",
    "mse = mt.mean_squared_error(y_val, yhat_lr_lasso_val)\n",
    "\n",
    "# Calcular RMSE\n",
    "rmse = np.sqrt(mse)\n",
    "\n",
    "# Calcular MAE\n",
    "mae = mt.mean_absolute_error(y_val, yhat_lr_lasso_val)\n",
    "\n",
    "# Calcular MAPE\n",
    "mape = mt.mean_absolute_percentage_error(y_val, yhat_lr_lasso_val)*100\n",
    "\n",
    "print(\"R²:\", r2)\n",
    "print(\"MSE:\", mse)\n",
    "print(\"RMSE:\", rmse)\n",
    "print(\"MAE:\", mae)\n",
    "print(\"MAPE:\", mape)"
   ]
  },
  {
   "attachments": {},
   "cell_type": "markdown",
   "metadata": {},
   "source": [
    "## 6.3 Test"
   ]
  },
  {
   "cell_type": "code",
   "execution_count": 93,
   "metadata": {},
   "outputs": [
    {
     "name": "stdout",
     "output_type": "stream",
     "text": [
      "R²: 0.00837248361268117\n",
      "MSE: 482.8244054454881\n",
      "RMSE: 21.97326569824085\n",
      "MAE: 17.456853946046976\n",
      "MAPE: 875.6071560194171\n"
     ]
    }
   ],
   "source": [
    "#model definition\n",
    "pr_test = pp.PolynomialFeatures(degree= 2)\n",
    "\n",
    "# poli fi\n",
    "x_test_pr = pr_test.fit_transform(x_test)\n",
    "\n",
    "# Linear regression\n",
    "lr_lasso_test = lm.Lasso(alpha= 1, max_iter=20)\n",
    "\n",
    "#model training\n",
    "lr_lasso_test.fit(x_train_pr, y_train)\n",
    "\n",
    "#model predict\n",
    "yhat_lr_lasso_test = lr_lasso_test.predict(x_test_pr)\n",
    "\n",
    "# Calcular R²\n",
    "r2 = mt.r2_score(y_test, yhat_lr_lasso_test)\n",
    "\n",
    "# Calcular MSE\n",
    "mse = mt.mean_squared_error(y_test, yhat_lr_lasso_test)\n",
    "\n",
    "# Calcular RMSE\n",
    "rmse = np.sqrt(mse)\n",
    "\n",
    "# Calcular MAE\n",
    "mae = mt.mean_absolute_error(y_test, yhat_lr_lasso_test)\n",
    "\n",
    "# Calcular MAPE\n",
    "mape = mt.mean_absolute_percentage_error(y_test, yhat_lr_lasso_test)*100\n",
    "\n",
    "print(\"R²:\", r2)\n",
    "print(\"MSE:\", mse)\n",
    "print(\"RMSE:\", rmse)\n",
    "print(\"MAE:\", mae)\n",
    "print(\"MAPE:\", mape)"
   ]
  },
  {
   "attachments": {},
   "cell_type": "markdown",
   "metadata": {},
   "source": [
    "# 7.0 Polinomial Regression Ridge"
   ]
  },
  {
   "attachments": {},
   "cell_type": "markdown",
   "metadata": {},
   "source": [
    "## 7.1 Train"
   ]
  },
  {
   "cell_type": "code",
   "execution_count": 75,
   "metadata": {},
   "outputs": [
    {
     "name": "stdout",
     "output_type": "stream",
     "text": [
      "R²: 0.08264931159093614\n",
      "MSE: 438.50515096566494\n",
      "RMSE: 20.940514582160223\n",
      "MAE: 16.592122963296312\n",
      "MAPE: 846.2039364649747\n"
     ]
    }
   ],
   "source": [
    "#model definition\n",
    "pr_train = pp.PolynomialFeatures(degree= 2)\n",
    "\n",
    "# poli fi\n",
    "x_train_pr = pr_train.fit_transform(x_train)\n",
    "\n",
    "# Linear regression\n",
    "lr_ridge_train = lm.Ridge(alpha= 50, max_iter=70)\n",
    "\n",
    "#model training\n",
    "lr_ridge_train.fit(x_train_pr, y_train)\n",
    "\n",
    "#model predict\n",
    "yhat_lr_ridge_train = lr_ridge_train.predict(x_train_pr)\n",
    "\n",
    "# Calcular R²\n",
    "r2 = mt.r2_score(y_train, yhat_lr_ridge_train)\n",
    "\n",
    "# Calcular MSE\n",
    "mse = mt.mean_squared_error(y_train, yhat_lr_ridge_train)\n",
    "\n",
    "# Calcular RMSE\n",
    "rmse = np.sqrt(mse)\n",
    "\n",
    "# Calcular MAE\n",
    "mae = mt.mean_absolute_error(y_train, yhat_lr_ridge_train)\n",
    "\n",
    "# Calcular MAPE\n",
    "mape = mt.mean_absolute_percentage_error(y_train, yhat_lr_ridge_train)*100\n",
    "\n",
    "print(\"R²:\", r2)\n",
    "print(\"MSE:\", mse)\n",
    "print(\"RMSE:\", rmse)\n",
    "print(\"MAE:\", mae)\n",
    "print(\"MAPE:\", mape)"
   ]
  },
  {
   "attachments": {},
   "cell_type": "markdown",
   "metadata": {},
   "source": [
    "## 7.2 Validation"
   ]
  },
  {
   "cell_type": "code",
   "execution_count": 82,
   "metadata": {},
   "outputs": [
    {
     "name": "stdout",
     "output_type": "stream",
     "text": [
      "R²: 0.06505919452308206\n",
      "MSE: 446.44509110720185\n",
      "RMSE: 21.12924729154358\n",
      "MAE: 16.769391012006473\n",
      "MAPE: 862.671986938239\n"
     ]
    }
   ],
   "source": [
    "#model definition\n",
    "pr_test= pp.PolynomialFeatures(degree= 2)\n",
    "\n",
    "# poli fi\n",
    "x_val_pr = pr_val.fit_transform(x_val)\n",
    "\n",
    "# Linear regression\n",
    "lr_ridge_val = lm.Ridge(alpha= 50, max_iter=70)\n",
    "\n",
    "#model training\n",
    "lr_ridge_val.fit(x_train_pr, y_train)\n",
    "\n",
    "#model predict\n",
    "yhat_lr_ridge_val = lr_ridge_val.predict(x_val_pr)\n",
    "\n",
    "# Calcular R²\n",
    "r2 = mt.r2_score(y_val, yhat_lr_ridge_val)\n",
    "\n",
    "# Calcular MSE\n",
    "mse = mt.mean_squared_error(y_val, yhat_lr_ridge_val)\n",
    "\n",
    "# Calcular RMSE\n",
    "rmse = np.sqrt(mse)\n",
    "\n",
    "# Calcular MAE\n",
    "mae = mt.mean_absolute_error(y_val, yhat_lr_ridge_val)\n",
    "\n",
    "# Calcular MAPE\n",
    "mape = mt.mean_absolute_percentage_error(y_val, yhat_lr_ridge_val)*100\n",
    "\n",
    "print(\"R²:\", r2)\n",
    "print(\"MSE:\", mse)\n",
    "print(\"RMSE:\", rmse)\n",
    "print(\"MAE:\", mae)\n",
    "print(\"MAPE:\", mape)"
   ]
  },
  {
   "attachments": {},
   "cell_type": "markdown",
   "metadata": {},
   "source": [
    "## 7.3 Test"
   ]
  },
  {
   "cell_type": "code",
   "execution_count": 89,
   "metadata": {},
   "outputs": [
    {
     "name": "stdout",
     "output_type": "stream",
     "text": [
      "R²: 0.0805343505499585\n",
      "MSE: 447.68872201189265\n",
      "RMSE: 21.158655959486005\n",
      "MAE: 16.824314075602146\n",
      "MAPE: 837.2790020693122\n"
     ]
    }
   ],
   "source": [
    "#model definition\n",
    "pr_test = pp.PolynomialFeatures(degree= 2)\n",
    "\n",
    "# poli fi\n",
    "x_test_pr = pr_test.fit_transform(x_test)\n",
    "\n",
    "# Linear regression\n",
    "lr_ridge_test = lm.Ridge(alpha= 50, max_iter=70)\n",
    "\n",
    "#model training\n",
    "lr_ridge_test.fit(x_train_pr, y_train)\n",
    "\n",
    "#model predict\n",
    "yhat_lr_ridge_test = lr_ridge_test.predict(x_test_pr)\n",
    "\n",
    "# Calcular R²\n",
    "r2 = mt.r2_score(y_test, yhat_lr_ridge_test)\n",
    "\n",
    "# Calcular MSE\n",
    "mse = mt.mean_squared_error(y_test, yhat_lr_ridge_test)\n",
    "\n",
    "# Calcular RMSE\n",
    "rmse = np.sqrt(mse)\n",
    "\n",
    "# Calcular MAE\n",
    "mae = mt.mean_absolute_error(y_test, yhat_lr_ridge_test)\n",
    "\n",
    "# Calcular MAPE\n",
    "mape = mt.mean_absolute_percentage_error(y_test, yhat_lr_ridge_test)*100\n",
    "\n",
    "print(\"R²:\", r2)\n",
    "print(\"MSE:\", mse)\n",
    "print(\"RMSE:\", rmse)\n",
    "print(\"MAE:\", mae)\n",
    "print(\"MAPE:\", mape)"
   ]
  },
  {
   "attachments": {},
   "cell_type": "markdown",
   "metadata": {},
   "source": [
    "# 8.0 Polinomial Regression Elastic Net"
   ]
  },
  {
   "attachments": {},
   "cell_type": "markdown",
   "metadata": {},
   "source": [
    "## 8.1 Train"
   ]
  },
  {
   "cell_type": "code",
   "execution_count": 77,
   "metadata": {},
   "outputs": [
    {
     "name": "stdout",
     "output_type": "stream",
     "text": [
      "R²: 0.011160838310019239\n",
      "MSE: 472.6775390877249\n",
      "RMSE: 21.741148522737358\n",
      "MAE: 17.263256382400286\n",
      "MAPE: 868.9082654340531\n"
     ]
    }
   ],
   "source": [
    "#model definition\n",
    "pr_train = pp.PolynomialFeatures(degree= 2)\n",
    "\n",
    "# poli fi\n",
    "x_train_pr = pr_train.fit_transform(x_train)\n",
    "\n",
    "# Linear regression\n",
    "lr_elastic_train = lm.ElasticNet(alpha=1,l1_ratio=0.7)\n",
    "\n",
    "#model training\n",
    "lr_elastic_train.fit(x_train_pr, y_train)\n",
    "\n",
    "#model predict\n",
    "yhat_lr_elastic_train = lr_elastic_train.predict(x_train_pr)\n",
    "\n",
    "# Calcular R²\n",
    "r2 = mt.r2_score(y_train, yhat_lr_elastic_train)\n",
    "\n",
    "# Calcular MSE\n",
    "mse = mt.mean_squared_error(y_train, yhat_lr_elastic_train)\n",
    "\n",
    "# Calcular RMSE\n",
    "rmse = np.sqrt(mse)\n",
    "\n",
    "# Calcular MAE\n",
    "mae = mt.mean_absolute_error(y_train, yhat_lr_elastic_train)\n",
    "\n",
    "# Calcular MAPE\n",
    "mape = mt.mean_absolute_percentage_error(y_train, yhat_lr_elastic_train)*100\n",
    "\n",
    "print(\"R²:\", r2)\n",
    "print(\"MSE:\", mse)\n",
    "print(\"RMSE:\", rmse)\n",
    "print(\"MAE:\", mae)\n",
    "print(\"MAPE:\", mape)"
   ]
  },
  {
   "attachments": {},
   "cell_type": "markdown",
   "metadata": {},
   "source": [
    "## 8.2 Validation"
   ]
  },
  {
   "cell_type": "code",
   "execution_count": 83,
   "metadata": {},
   "outputs": [
    {
     "name": "stdout",
     "output_type": "stream",
     "text": [
      "R²: 0.011388105457035391\n",
      "MSE: 472.07365936259123\n",
      "RMSE: 21.72725613975661\n",
      "MAE: 17.21737692965022\n",
      "MAPE: 867.8637869594818\n"
     ]
    }
   ],
   "source": [
    "#model definition\n",
    "pr_val = pp.PolynomialFeatures(degree= 2)\n",
    "\n",
    "# poli fi\n",
    "x_val_pr = pr_val.fit_transform(x_val)\n",
    "\n",
    "# Linear regression\n",
    "lr_elastic_val = lm.ElasticNet(alpha=1,l1_ratio=0.7)\n",
    "\n",
    "#model training\n",
    "lr_elastic_val.fit(x_train_pr, y_train)\n",
    "\n",
    "#model predict\n",
    "yhat_lr_elastic_val = lr_elastic_val.predict(x_val_pr)\n",
    "\n",
    "# Calcular R²\n",
    "r2 = mt.r2_score(y_val, yhat_lr_elastic_val)\n",
    "\n",
    "# Calcular MSE\n",
    "mse = mt.mean_squared_error(y_val, yhat_lr_elastic_val)\n",
    "\n",
    "# Calcular RMSE\n",
    "rmse = np.sqrt(mse)\n",
    "\n",
    "# Calcular MAE\n",
    "mae = mt.mean_absolute_error(y_val, yhat_lr_elastic_val)\n",
    "\n",
    "# Calcular MAPE\n",
    "mape = mt.mean_absolute_percentage_error(y_val, yhat_lr_elastic_val)*100\n",
    "\n",
    "print(\"R²:\", r2)\n",
    "print(\"MSE:\", mse)\n",
    "print(\"RMSE:\", rmse)\n",
    "print(\"MAE:\", mae)\n",
    "print(\"MAPE:\", mape)"
   ]
  },
  {
   "attachments": {},
   "cell_type": "markdown",
   "metadata": {},
   "source": [
    "## 8.3 Test"
   ]
  },
  {
   "cell_type": "code",
   "execution_count": 90,
   "metadata": {},
   "outputs": [
    {
     "name": "stdout",
     "output_type": "stream",
     "text": [
      "R²: 0.009599020869151986\n",
      "MSE: 482.2272032583506\n",
      "RMSE: 21.959672202889337\n",
      "MAE: 17.440130038700563\n",
      "MAPE: 875.4985072883997\n"
     ]
    }
   ],
   "source": [
    "#model definition\n",
    "pr_test = pp.PolynomialFeatures(degree= 2)\n",
    "\n",
    "# poli fi\n",
    "x_test_pr = pr_val.fit_transform(x_test)\n",
    "\n",
    "# Linear regression\n",
    "lr_elastic_test = lm.ElasticNet(alpha=1,l1_ratio=0.7)\n",
    "\n",
    "#model training\n",
    "lr_elastic_test.fit(x_train_pr, y_train)\n",
    "\n",
    "#model predict\n",
    "yhat_lr_elastic_test = lr_elastic_test.predict(x_test_pr)\n",
    "\n",
    "# Calcular R²\n",
    "r2 = mt.r2_score(y_test, yhat_lr_elastic_test)\n",
    "\n",
    "# Calcular MSE\n",
    "mse = mt.mean_squared_error(y_test, yhat_lr_elastic_test)\n",
    "\n",
    "# Calcular RMSE\n",
    "rmse = np.sqrt(mse)\n",
    "\n",
    "# Calcular MAE\n",
    "mae = mt.mean_absolute_error(y_test, yhat_lr_elastic_test)\n",
    "\n",
    "# Calcular MAPE\n",
    "mape = mt.mean_absolute_percentage_error(y_test, yhat_lr_elastic_test)*100\n",
    "\n",
    "print(\"R²:\", r2)\n",
    "print(\"MSE:\", mse)\n",
    "print(\"RMSE:\", rmse)\n",
    "print(\"MAE:\", mae)\n",
    "print(\"MAPE:\", mape)"
   ]
  },
  {
   "attachments": {},
   "cell_type": "markdown",
   "metadata": {},
   "source": [
    "# 9.0 Decision Tree Regressor"
   ]
  },
  {
   "attachments": {},
   "cell_type": "markdown",
   "metadata": {},
   "source": [
    "## 9.1 Train"
   ]
  },
  {
   "cell_type": "code",
   "execution_count": 100,
   "metadata": {},
   "outputs": [
    {
     "name": "stdout",
     "output_type": "stream",
     "text": [
      "R²: 0.9917566957405923\n",
      "MSE: 3.940402971731975\n",
      "RMSE: 1.9850448286454327\n",
      "MAE: 0.21409852496986279\n",
      "MAPE: 8.262787375974135\n"
     ]
    }
   ],
   "source": [
    "#model definition\n",
    "dt_model_train = tr.DecisionTreeRegressor(max_depth = 50, random_state= 42)\n",
    "\n",
    "#model training\n",
    "dt_model_train.fit(x_train, y_train)\n",
    "\n",
    "#model predict\n",
    "yhat_dt_model_train = dt_model_train.predict(x_train)\n",
    "\n",
    "# Calcular R²\n",
    "r2 = mt.r2_score(y_train, yhat_dt_model_train)\n",
    "\n",
    "# Calcular MSE\n",
    "mse = mt.mean_squared_error(y_train, yhat_dt_model_train)\n",
    "\n",
    "# Calcular RMSE\n",
    "rmse = np.sqrt(mse)\n",
    "\n",
    "# Calcular MAE\n",
    "mae = mt.mean_absolute_error(y_train, yhat_dt_model_train)\n",
    "\n",
    "# Calcular MAPE\n",
    "mape = mt.mean_absolute_percentage_error(y_train, yhat_dt_model_train)*100\n",
    "\n",
    "print(\"R²:\", r2)\n",
    "print(\"MSE:\", mse)\n",
    "print(\"RMSE:\", rmse)\n",
    "print(\"MAE:\", mae)\n",
    "print(\"MAPE:\", mape)"
   ]
  },
  {
   "attachments": {},
   "cell_type": "markdown",
   "metadata": {},
   "source": [
    "## 9.2 Validation"
   ]
  },
  {
   "cell_type": "code",
   "execution_count": 103,
   "metadata": {},
   "outputs": [
    {
     "name": "stdout",
     "output_type": "stream",
     "text": [
      "R²: -0.30391776516619506\n",
      "MSE: 622.6358739032412\n",
      "RMSE: 24.95267268056152\n",
      "MAE: 17.166615476980443\n",
      "MAPE: 694.1831785416537\n"
     ]
    }
   ],
   "source": [
    "#model definition\n",
    "dt_model_val = tr.DecisionTreeRegressor(max_depth = 90, random_state= 42)\n",
    "\n",
    "#model training\n",
    "dt_model_val.fit(x_train, y_train)\n",
    "\n",
    "#model predict\n",
    "yhat_dt_model_val = dt_model_val.predict(x_val)\n",
    "\n",
    "# Calcular R²\n",
    "r2 = mt.r2_score(y_val, yhat_dt_model_val)\n",
    "\n",
    "# Calcular MSE\n",
    "mse = mt.mean_squared_error(y_val, yhat_dt_model_val)\n",
    "\n",
    "# Calcular RMSE\n",
    "rmse = np.sqrt(mse)\n",
    "\n",
    "# Calcular MAE\n",
    "mae = mt.mean_absolute_error(y_val, yhat_dt_model_val)\n",
    "\n",
    "# Calcular MAPE\n",
    "mape = mt.mean_absolute_percentage_error(y_val, yhat_dt_model_val)*100\n",
    "\n",
    "print(\"R²:\", r2)\n",
    "print(\"MSE:\", mse)\n",
    "print(\"RMSE:\", rmse)\n",
    "print(\"MAE:\", mae)\n",
    "print(\"MAPE:\", mape)"
   ]
  },
  {
   "attachments": {},
   "cell_type": "markdown",
   "metadata": {},
   "source": [
    "## 9.3 Test"
   ]
  },
  {
   "cell_type": "code",
   "execution_count": 110,
   "metadata": {},
   "outputs": [
    {
     "name": "stdout",
     "output_type": "stream",
     "text": [
      "R²: -0.258115397689644\n",
      "MSE: 612.5776149136763\n",
      "RMSE: 24.750305349907833\n",
      "MAE: 17.038987068148202\n",
      "MAPE: 612.4326997399982\n"
     ]
    }
   ],
   "source": [
    "#model definition\n",
    "dt_model_test = tr.DecisionTreeRegressor(max_depth = 70, random_state= 26)\n",
    "\n",
    "#model training\n",
    "dt_model_test.fit(np.concatenate((x_train,x_val)),np.concatenate((y_train,y_val)))\n",
    "\n",
    "#model predict\n",
    "yhat_dt_model_test = dt_model_val.predict(x_test)\n",
    "\n",
    "# Calcular R²\n",
    "r2 = mt.r2_score(y_test, yhat_dt_model_test)\n",
    "\n",
    "# Calcular MSE\n",
    "mse = mt.mean_squared_error(y_test, yhat_dt_model_test)\n",
    "\n",
    "# Calcular RMSE\n",
    "rmse = np.sqrt(mse)\n",
    "\n",
    "# Calcular MAE\n",
    "mae = mt.mean_absolute_error(y_test, yhat_dt_model_test)\n",
    "\n",
    "# Calcular MAPE\n",
    "mape = mt.mean_absolute_percentage_error(y_test, yhat_dt_model_test)*100\n",
    "\n",
    "print(\"R²:\", r2)\n",
    "print(\"MSE:\", mse)\n",
    "print(\"RMSE:\", rmse)\n",
    "print(\"MAE:\", mae)\n",
    "print(\"MAPE:\", mape)"
   ]
  },
  {
   "attachments": {},
   "cell_type": "markdown",
   "metadata": {},
   "source": [
    "# 10.0 Random Forest Regressor"
   ]
  },
  {
   "attachments": {},
   "cell_type": "markdown",
   "metadata": {},
   "source": [
    "## 10.1 Train"
   ]
  },
  {
   "cell_type": "code",
   "execution_count": 122,
   "metadata": {},
   "outputs": [
    {
     "name": "stderr",
     "output_type": "stream",
     "text": [
      "c:\\Users\\rseme\\anaconda3\\envs\\ensaiosML\\lib\\site-packages\\sklearn\\base.py:1151: DataConversionWarning: A column-vector y was passed when a 1d array was expected. Please change the shape of y to (n_samples,), for example using ravel().\n",
      "  return fit_method(estimator, *args, **kwargs)\n"
     ]
    },
    {
     "name": "stdout",
     "output_type": "stream",
     "text": [
      "R²: 0.9030224721904418\n",
      "MSE: 46.35647632876086\n",
      "RMSE: 6.808559049370202\n",
      "MAE: 4.855460151492249\n",
      "MAPE: 256.4713322403269\n"
     ]
    }
   ],
   "source": [
    "#model definition\n",
    "rf_model_train = RandomForestRegressor(n_estimators = 85, max_depth = 62)\n",
    "\n",
    "#model training\n",
    "rf_model_train.fit(x_train, y_train)\n",
    "\n",
    "#model predict\n",
    "yhat_rf_model_train = rf_model_train.predict(x_train)\n",
    "\n",
    "# Calcular R²\n",
    "r2 = mt.r2_score(y_train, yhat_rf_model_train)\n",
    "\n",
    "# Calcular MSE\n",
    "mse = mt.mean_squared_error(y_train, yhat_rf_model_train)\n",
    "\n",
    "# Calcular RMSE\n",
    "rmse = np.sqrt(mse)\n",
    "\n",
    "# Calcular MAE\n",
    "mae = mt.mean_absolute_error(y_train, yhat_rf_model_train)\n",
    "\n",
    "# Calcular MAPE\n",
    "mape = mt.mean_absolute_percentage_error(y_train, yhat_rf_model_train)*100\n",
    "\n",
    "print(\"R²:\", r2)\n",
    "print(\"MSE:\", mse)\n",
    "print(\"RMSE:\", rmse)\n",
    "print(\"MAE:\", mae)\n",
    "print(\"MAPE:\", mape)"
   ]
  },
  {
   "attachments": {},
   "cell_type": "markdown",
   "metadata": {},
   "source": [
    "## 10.2 Validation"
   ]
  },
  {
   "cell_type": "code",
   "execution_count": 123,
   "metadata": {},
   "outputs": [
    {
     "name": "stderr",
     "output_type": "stream",
     "text": [
      "c:\\Users\\rseme\\anaconda3\\envs\\ensaiosML\\lib\\site-packages\\sklearn\\base.py:1151: DataConversionWarning: A column-vector y was passed when a 1d array was expected. Please change the shape of y to (n_samples,), for example using ravel().\n",
      "  return fit_method(estimator, *args, **kwargs)\n"
     ]
    },
    {
     "name": "stdout",
     "output_type": "stream",
     "text": [
      "R²: 0.3337128608004204\n",
      "MSE: 318.15984586508347\n",
      "RMSE: 17.837035792560474\n",
      "MAE: 12.97694132896955\n",
      "MAPE: 700.2750065855312\n"
     ]
    }
   ],
   "source": [
    "#model definition\n",
    "rf_model_val = RandomForestRegressor(n_estimators = 85, max_depth = 62)\n",
    "\n",
    "#model training\n",
    "rf_model_val.fit(x_train, y_train)\n",
    "\n",
    "#model predict\n",
    "yhat_rf_model_val = rf_model_train.predict(x_val)\n",
    "\n",
    "# Calcular R²\n",
    "r2 = mt.r2_score(y_val, yhat_rf_model_val)\n",
    "\n",
    "# Calcular MSE\n",
    "mse = mt.mean_squared_error(y_val, yhat_rf_model_val)\n",
    "\n",
    "# Calcular RMSE\n",
    "rmse = np.sqrt(mse)\n",
    "\n",
    "# Calcular MAE\n",
    "mae = mt.mean_absolute_error(y_val, yhat_rf_model_val)\n",
    "\n",
    "# Calcular MAPE\n",
    "mape = mt.mean_absolute_percentage_error(y_val, yhat_rf_model_val)*100\n",
    "\n",
    "print(\"R²:\", r2)\n",
    "print(\"MSE:\", mse)\n",
    "print(\"RMSE:\", rmse)\n",
    "print(\"MAE:\", mae)\n",
    "print(\"MAPE:\", mape)"
   ]
  },
  {
   "attachments": {},
   "cell_type": "markdown",
   "metadata": {},
   "source": [
    "## 10.3 Test"
   ]
  },
  {
   "cell_type": "code",
   "execution_count": 128,
   "metadata": {},
   "outputs": [
    {
     "name": "stderr",
     "output_type": "stream",
     "text": [
      "c:\\Users\\rseme\\anaconda3\\envs\\ensaiosML\\lib\\site-packages\\sklearn\\base.py:1151: DataConversionWarning: A column-vector y was passed when a 1d array was expected. Please change the shape of y to (n_samples,), for example using ravel().\n",
      "  return fit_method(estimator, *args, **kwargs)\n"
     ]
    },
    {
     "name": "stdout",
     "output_type": "stream",
     "text": [
      "R²: 0.4049370667235289\n",
      "MSE: 289.7367229265548\n",
      "RMSE: 17.021654529644138\n",
      "MAE: 12.240301139727015\n",
      "MAPE: 627.9218191284226\n"
     ]
    },
    {
     "name": "stderr",
     "output_type": "stream",
     "text": [
      "c:\\Users\\rseme\\anaconda3\\envs\\ensaiosML\\lib\\site-packages\\sklearn\\base.py:457: UserWarning: X has feature names, but RandomForestRegressor was fitted without feature names\n",
      "  warnings.warn(\n"
     ]
    }
   ],
   "source": [
    "#model definition\n",
    "rf_model_test = RandomForestRegressor(n_estimators = 115, max_depth = 72)\n",
    "\n",
    "#model training\n",
    "rf_model_test.fit(np.concatenate((x_train,x_val)),np.concatenate((y_train,y_val)))\n",
    "\n",
    "#model predict\n",
    "yhat_rf_model_test = rf_model_test.predict(x_test)\n",
    "\n",
    "# Calcular R²\n",
    "r2 = mt.r2_score(y_test, yhat_rf_model_test)\n",
    "\n",
    "# Calcular MSE\n",
    "mse = mt.mean_squared_error(y_test, yhat_rf_model_test)\n",
    "\n",
    "# Calcular RMSE\n",
    "rmse = np.sqrt(mse)\n",
    "\n",
    "# Calcular MAE\n",
    "mae = mt.mean_absolute_error(y_test, yhat_rf_model_test)\n",
    "\n",
    "# Calcular MAPE\n",
    "mape = mt.mean_absolute_percentage_error(y_test, yhat_rf_model_test)*100\n",
    "\n",
    "print(\"R²:\", r2)\n",
    "print(\"MSE:\", mse)\n",
    "print(\"RMSE:\", rmse)\n",
    "print(\"MAE:\", mae)\n",
    "print(\"MAPE:\", mape)"
   ]
  }
 ],
 "metadata": {
  "kernelspec": {
   "display_name": "ensaiosML",
   "language": "python",
   "name": "python3"
  },
  "language_info": {
   "codemirror_mode": {
    "name": "ipython",
    "version": 3
   },
   "file_extension": ".py",
   "mimetype": "text/x-python",
   "name": "python",
   "nbconvert_exporter": "python",
   "pygments_lexer": "ipython3",
   "version": "3.10.14"
  },
  "orig_nbformat": 4
 },
 "nbformat": 4,
 "nbformat_minor": 2
}
