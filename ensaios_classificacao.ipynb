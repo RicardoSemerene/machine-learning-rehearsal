{
 "cells": [
  {
   "cell_type": "code",
   "execution_count": 3,
   "metadata": {},
   "outputs": [],
   "source": [
    "from sklearn  import neighbors as nh\n",
    "import pandas as pd\n",
    "import numpy as np\n",
    "from sklearn import metrics as mt\n",
    "from sklearn import tree as tr\n",
    "from sklearn.ensemble import RandomForestClassifier\n",
    "from sklearn.linear_model import LogisticRegression"
   ]
  },
  {
   "attachments": {},
   "cell_type": "markdown",
   "metadata": {},
   "source": [
    "# 0.0 Ensaios de Machine Learning - Classificação"
   ]
  },
  {
   "attachments": {},
   "cell_type": "markdown",
   "metadata": {},
   "source": [
    "# 1.0 KNN"
   ]
  },
  {
   "attachments": {},
   "cell_type": "markdown",
   "metadata": {},
   "source": [
    "## 1.1 Train"
   ]
  },
  {
   "cell_type": "code",
   "execution_count": 4,
   "metadata": {},
   "outputs": [],
   "source": [
    "x_train = pd.read_csv('datasets/X_training_class.csv')\n",
    "y_train = pd.read_csv('datasets/y_training_class.csv')\n",
    "\n",
    "x_train = x_train.values\n",
    "y_train = y_train.values"
   ]
  },
  {
   "cell_type": "code",
   "execution_count": 160,
   "metadata": {},
   "outputs": [
    {
     "name": "stderr",
     "output_type": "stream",
     "text": [
      "c:\\Users\\rseme\\anaconda3\\envs\\ensaiosML\\lib\\site-packages\\sklearn\\neighbors\\_classification.py:228: DataConversionWarning: A column-vector y was passed when a 1d array was expected. Please change the shape of y to (n_samples,), for example using ravel().\n",
      "  return self._fit(X, y)\n"
     ]
    },
    {
     "name": "stdout",
     "output_type": "stream",
     "text": [
      "para k = 3 , acc = 0.8321864441839619\n",
      "para k = 3 , precision = 0.8120079059067492\n",
      "para k = 3 , recall = 0.7974099529082347\n",
      "para k = 3 , f1 = 0.804642725273314\n"
     ]
    },
    {
     "name": "stderr",
     "output_type": "stream",
     "text": [
      "c:\\Users\\rseme\\anaconda3\\envs\\ensaiosML\\lib\\site-packages\\sklearn\\neighbors\\_classification.py:228: DataConversionWarning: A column-vector y was passed when a 1d array was expected. Please change the shape of y to (n_samples,), for example using ravel().\n",
      "  return self._fit(X, y)\n"
     ]
    },
    {
     "name": "stdout",
     "output_type": "stream",
     "text": [
      "para k = 5 , acc = 0.7815624353582018\n",
      "para k = 5 , precision = 0.7558933613500558\n",
      "para k = 5 , recall = 0.7325633193330788\n",
      "para k = 5 , f1 = 0.744045503021685\n"
     ]
    },
    {
     "name": "stderr",
     "output_type": "stream",
     "text": [
      "c:\\Users\\rseme\\anaconda3\\envs\\ensaiosML\\lib\\site-packages\\sklearn\\neighbors\\_classification.py:228: DataConversionWarning: A column-vector y was passed when a 1d array was expected. Please change the shape of y to (n_samples,), for example using ravel().\n",
      "  return self._fit(X, y)\n"
     ]
    },
    {
     "name": "stdout",
     "output_type": "stream",
     "text": [
      "para k = 7 , acc = 0.7563124870716403\n",
      "para k = 7 , precision = 0.731248949403261\n",
      "para k = 7 , recall = 0.6920898561792033\n",
      "para k = 7 , f1 = 0.7111307276085855\n"
     ]
    },
    {
     "name": "stderr",
     "output_type": "stream",
     "text": [
      "c:\\Users\\rseme\\anaconda3\\envs\\ensaiosML\\lib\\site-packages\\sklearn\\neighbors\\_classification.py:228: DataConversionWarning: A column-vector y was passed when a 1d array was expected. Please change the shape of y to (n_samples,), for example using ravel().\n",
      "  return self._fit(X, y)\n"
     ]
    },
    {
     "name": "stdout",
     "output_type": "stream",
     "text": [
      "para k = 9 , acc = 0.7399986209749707\n",
      "para k = 9 , precision = 0.7138144470140116\n",
      "para k = 9 , recall = 0.6678439607992872\n",
      "para k = 9 , f1 = 0.6900644397685428\n"
     ]
    },
    {
     "name": "stderr",
     "output_type": "stream",
     "text": [
      "c:\\Users\\rseme\\anaconda3\\envs\\ensaiosML\\lib\\site-packages\\sklearn\\neighbors\\_classification.py:228: DataConversionWarning: A column-vector y was passed when a 1d array was expected. Please change the shape of y to (n_samples,), for example using ravel().\n",
      "  return self._fit(X, y)\n"
     ]
    },
    {
     "name": "stdout",
     "output_type": "stream",
     "text": [
      "para k = 11 , acc = 0.7295594015031373\n",
      "para k = 11 , precision = 0.7046517266461155\n",
      "para k = 11 , recall = 0.6473208603792796\n",
      "para k = 11 , f1 = 0.6747707258826847\n"
     ]
    }
   ],
   "source": [
    "acc_score_train = []\n",
    "precision_score_train = []\n",
    "recall_score_train = []\n",
    "f1_score_train = []\n",
    "\n",
    "for k in range(3,13,2): \n",
    "        #model definition\n",
    "        knn_model_train = nh.KNeighborsClassifier(n_neighbors= k)\n",
    "\n",
    "        #model training\n",
    "        knn_model_train.fit(x_train, y_train)\n",
    "\n",
    "        #model prediction\n",
    "        yhat_knn_train = knn_model_train.predict(x_train)\n",
    "        \n",
    "        acc_train = mt.accuracy_score(y_train, yhat_knn_train)\n",
    "        precision_train = mt.precision_score(y_train, yhat_knn_train)\n",
    "        recall_train = mt.recall_score(y_train, yhat_knn_train)\n",
    "        f1_train = mt.f1_score(y_train, yhat_knn_train)\n",
    "        \n",
    "        acc_score_train.append(acc_train)\n",
    "        precision_score_train.append(precision_train)\n",
    "        recall_score_train.append(recall_train)\n",
    "        f1_score_train.append(f1_train)\n",
    "        \n",
    "        \n",
    "        print ('para k = {}'.format(k),', acc = {}'.format(acc_score_train[-1]))\n",
    "        print ('para k = {}'.format(k),', precision = {}'.format(precision_score_train[-1]))\n",
    "        print ('para k = {}'.format(k),', recall = {}'.format(recall_score_train[-1]))\n",
    "        print ('para k = {}'.format(k),', f1 = {}'.format(f1_score_train[-1]))\n"
   ]
  },
  {
   "attachments": {},
   "cell_type": "markdown",
   "metadata": {},
   "source": [
    "## 1.2 Validation \n"
   ]
  },
  {
   "cell_type": "code",
   "execution_count": 5,
   "metadata": {},
   "outputs": [],
   "source": [
    "x_val = pd.read_csv('datasets/X_validation_class.csv')\n",
    "y_val = pd.read_csv('datasets/y_validation_class.csv')\n",
    "\n",
    "x_val = x_val.values\n",
    "y_val = y_val.values\n"
   ]
  },
  {
   "cell_type": "code",
   "execution_count": null,
   "metadata": {},
   "outputs": [
    {
     "name": "stderr",
     "output_type": "stream",
     "text": [
      "c:\\Users\\rseme\\anaconda3\\envs\\ensaiosML\\lib\\site-packages\\sklearn\\neighbors\\_classification.py:228: DataConversionWarning: A column-vector y was passed when a 1d array was expected. Please change the shape of y to (n_samples,), for example using ravel().\n",
      "  return self._fit(X, y)\n"
     ]
    },
    {
     "name": "stdout",
     "output_type": "stream",
     "text": [
      "para k = 3 , acc = 0.6762765854757231\n",
      "para k = 3 , precision = 0.6278511404561825\n",
      "para k = 3 , recall = 0.6212784913505086\n",
      "para k = 3 , f1 = 0.6245475239765645\n"
     ]
    },
    {
     "name": "stderr",
     "output_type": "stream",
     "text": [
      "c:\\Users\\rseme\\anaconda3\\envs\\ensaiosML\\lib\\site-packages\\sklearn\\neighbors\\_classification.py:228: DataConversionWarning: A column-vector y was passed when a 1d array was expected. Please change the shape of y to (n_samples,), for example using ravel().\n",
      "  return self._fit(X, y)\n"
     ]
    },
    {
     "name": "stdout",
     "output_type": "stream",
     "text": [
      "para k = 5 , acc = 0.6756652401943435\n",
      "para k = 5 , precision = 0.631775410218524\n",
      "para k = 5 , recall = 0.6031628183235578\n",
      "para k = 5 , f1 = 0.617137648131267\n"
     ]
    },
    {
     "name": "stderr",
     "output_type": "stream",
     "text": [
      "c:\\Users\\rseme\\anaconda3\\envs\\ensaiosML\\lib\\site-packages\\sklearn\\neighbors\\_classification.py:228: DataConversionWarning: A column-vector y was passed when a 1d array was expected. Please change the shape of y to (n_samples,), for example using ravel().\n",
      "  return self._fit(X, y)\n"
     ]
    },
    {
     "name": "stdout",
     "output_type": "stream",
     "text": [
      "para k = 7 , acc = 0.6669777019852634\n",
      "para k = 7 , precision = 0.6227083169407507\n",
      "para k = 7 , recall = 0.5875714603905264\n",
      "para k = 7 , f1 = 0.6046298418519368\n"
     ]
    },
    {
     "name": "stderr",
     "output_type": "stream",
     "text": [
      "c:\\Users\\rseme\\anaconda3\\envs\\ensaiosML\\lib\\site-packages\\sklearn\\neighbors\\_classification.py:228: DataConversionWarning: A column-vector y was passed when a 1d array was expected. Please change the shape of y to (n_samples,), for example using ravel().\n",
      "  return self._fit(X, y)\n"
     ]
    },
    {
     "name": "stdout",
     "output_type": "stream",
     "text": [
      "para k = 9 , acc = 0.6664950609736477\n",
      "para k = 9 , precision = 0.6242395132885047\n",
      "para k = 9 , recall = 0.5789590912465662\n",
      "para k = 9 , f1 = 0.6007472747582913\n"
     ]
    },
    {
     "name": "stderr",
     "output_type": "stream",
     "text": [
      "c:\\Users\\rseme\\anaconda3\\envs\\ensaiosML\\lib\\site-packages\\sklearn\\neighbors\\_classification.py:228: DataConversionWarning: A column-vector y was passed when a 1d array was expected. Please change the shape of y to (n_samples,), for example using ravel().\n",
      "  return self._fit(X, y)\n"
     ]
    },
    {
     "name": "stdout",
     "output_type": "stream",
     "text": [
      "para k = 11 , acc = 0.6644357926574214\n",
      "para k = 11 , precision = 0.6234768480909829\n",
      "para k = 11 , recall = 0.5698270101715049\n",
      "para k = 11 , f1 = 0.5954459055820628\n"
     ]
    }
   ],
   "source": [
    "acc_score_val = []\n",
    "precision_score_val = []\n",
    "recall_score_val = []\n",
    "f1_score_val = []\n",
    "\n",
    "for k in range(3,13,2): \n",
    "        #model definition\n",
    "        knn_model_val = nh.KNeighborsClassifier(n_neighbors= k)\n",
    "\n",
    "        #model training\n",
    "        knn_model_val.fit(x_train, y_train)\n",
    "\n",
    "        #model prediction\n",
    "        yhat_knn_val = knn_model_val.predict(x_val)\n",
    "        \n",
    "        acc_val = mt.accuracy_score(y_val, yhat_knn_val)\n",
    "        precision_val = mt.precision_score(y_val, yhat_knn_val)\n",
    "        recall_val = mt.recall_score(y_val, yhat_knn_val)\n",
    "        f1_val = mt.f1_score(y_val, yhat_knn_val)\n",
    "        \n",
    "        acc_score_val.append(acc_val)\n",
    "        precision_score_val.append(precision_val)\n",
    "        recall_score_val.append(recall_val)\n",
    "        f1_score_val.append(f1_val)\n",
    "        \n",
    "        \n",
    "        print ('para k = {}'.format(k),', acc = {}'.format(acc_score_val[-1]))\n",
    "        print ('para k = {}'.format(k),', precision = {}'.format(precision_score_val[-1]))\n",
    "        print ('para k = {}'.format(k),', recall = {}'.format(recall_score_val[-1]))\n",
    "        print ('para k = {}'.format(k),', f1 = {}'.format(f1_score_val[-1]))"
   ]
  },
  {
   "attachments": {},
   "cell_type": "markdown",
   "metadata": {},
   "source": [
    "## 1.3 Test"
   ]
  },
  {
   "cell_type": "code",
   "execution_count": 6,
   "metadata": {},
   "outputs": [],
   "source": [
    "x_test = pd.read_csv('datasets/X_test_class.csv')\n",
    "y_test = pd.read_csv('datasets/y_test_class.csv')\n",
    "\n",
    "x_test = x_test.values\n",
    "y_test = y_test.values"
   ]
  },
  {
   "cell_type": "code",
   "execution_count": null,
   "metadata": {},
   "outputs": [
    {
     "name": "stderr",
     "output_type": "stream",
     "text": [
      "c:\\Users\\rseme\\anaconda3\\envs\\ensaiosML\\lib\\site-packages\\sklearn\\neighbors\\_classification.py:228: DataConversionWarning: A column-vector y was passed when a 1d array was expected. Please change the shape of y to (n_samples,), for example using ravel().\n",
      "  return self._fit(X, y)\n"
     ]
    },
    {
     "name": "stdout",
     "output_type": "stream",
     "text": [
      "para k = 3 , acc = 0.6884486154559147\n",
      "para k = 3 , precision = 0.6480251346499102\n",
      "para k = 3 , recall = 0.6351957765068191\n",
      "para k = 3 , f1 = 0.6415463230393247\n"
     ]
    },
    {
     "name": "stderr",
     "output_type": "stream",
     "text": [
      "c:\\Users\\rseme\\anaconda3\\envs\\ensaiosML\\lib\\site-packages\\sklearn\\neighbors\\_classification.py:228: DataConversionWarning: A column-vector y was passed when a 1d array was expected. Please change the shape of y to (n_samples,), for example using ravel().\n",
      "  return self._fit(X, y)\n"
     ]
    },
    {
     "name": "stdout",
     "output_type": "stream",
     "text": [
      "para k = 5 , acc = 0.6850113930405901\n",
      "para k = 5 , precision = 0.6462225462498861\n",
      "para k = 5 , recall = 0.6239331280246371\n",
      "para k = 5 , f1 = 0.6348822634076461\n"
     ]
    },
    {
     "name": "stderr",
     "output_type": "stream",
     "text": [
      "c:\\Users\\rseme\\anaconda3\\envs\\ensaiosML\\lib\\site-packages\\sklearn\\neighbors\\_classification.py:228: DataConversionWarning: A column-vector y was passed when a 1d array was expected. Please change the shape of y to (n_samples,), for example using ravel().\n",
      "  return self._fit(X, y)\n"
     ]
    },
    {
     "name": "stdout",
     "output_type": "stream",
     "text": [
      "para k = 7 , acc = 0.6848182906577067\n",
      "para k = 7 , precision = 0.6487465181058496\n",
      "para k = 7 , recall = 0.614782226132864\n",
      "para k = 7 , f1 = 0.6313078834425119\n"
     ]
    },
    {
     "name": "stderr",
     "output_type": "stream",
     "text": [
      "c:\\Users\\rseme\\anaconda3\\envs\\ensaiosML\\lib\\site-packages\\sklearn\\neighbors\\_classification.py:228: DataConversionWarning: A column-vector y was passed when a 1d array was expected. Please change the shape of y to (n_samples,), for example using ravel().\n",
      "  return self._fit(X, y)\n"
     ]
    },
    {
     "name": "stdout",
     "output_type": "stream",
     "text": [
      "para k = 9 , acc = 0.6793728034603947\n",
      "para k = 9 , precision = 0.6446039089793221\n",
      "para k = 9 , recall = 0.6007039155301364\n",
      "para k = 9 , f1 = 0.6218801238841318\n"
     ]
    },
    {
     "name": "stderr",
     "output_type": "stream",
     "text": [
      "c:\\Users\\rseme\\anaconda3\\envs\\ensaiosML\\lib\\site-packages\\sklearn\\neighbors\\_classification.py:228: DataConversionWarning: A column-vector y was passed when a 1d array was expected. Please change the shape of y to (n_samples,), for example using ravel().\n",
      "  return self._fit(X, y)\n"
     ]
    },
    {
     "name": "stdout",
     "output_type": "stream",
     "text": [
      "para k = 11 , acc = 0.6776348820144441\n",
      "para k = 11 , precision = 0.6444295558958653\n",
      "para k = 11 , recall = 0.5924329080510339\n",
      "para k = 11 , f1 = 0.6173382845092377\n"
     ]
    }
   ],
   "source": [
    "acc_score_test = []\n",
    "precision_score_test = []\n",
    "recall_score_test = []\n",
    "f1_score_test = []\n",
    "\n",
    "for k in range(3,13,2): \n",
    "        #model definition\n",
    "        knn_model_test = nh.KNeighborsClassifier(n_neighbors= k)\n",
    "\n",
    "        #model training\n",
    "        knn_model_test.fit(np.concatenate((x_train,x_val)),np.concatenate((y_train,y_val)))\n",
    "        \n",
    "        #model prediction\n",
    "        yhat_knn_test = knn_model_test.predict(x_test)\n",
    "        \n",
    "        acc_test = mt.accuracy_score(y_test, yhat_knn_test)\n",
    "        precision_test = mt.precision_score(y_test, yhat_knn_test)\n",
    "        recall_test = mt.recall_score(y_test, yhat_knn_test)\n",
    "        f1_test = mt.f1_score(y_test, yhat_knn_test)\n",
    "        \n",
    "        acc_score_test.append(acc_test)\n",
    "        precision_score_test.append(precision_test)\n",
    "        recall_score_test.append(recall_test)\n",
    "        f1_score_test.append(f1_test)\n",
    "        \n",
    "        \n",
    "        print ('para k = {}'.format(k),', acc = {}'.format(acc_score_test[-1]))\n",
    "        print ('para k = {}'.format(k),', precision = {}'.format(precision_score_test[-1]))\n",
    "        print ('para k = {}'.format(k),', recall = {}'.format(recall_score_test[-1]))\n",
    "        print ('para k = {}'.format(k),', f1 = {}'.format(f1_score_test[-1]))"
   ]
  },
  {
   "attachments": {},
   "cell_type": "markdown",
   "metadata": {},
   "source": [
    "# 2.0 Decision Tree"
   ]
  },
  {
   "attachments": {},
   "cell_type": "markdown",
   "metadata": {},
   "source": [
    "## 2.1 Train"
   ]
  },
  {
   "cell_type": "code",
   "execution_count": null,
   "metadata": {},
   "outputs": [
    {
     "name": "stdout",
     "output_type": "stream",
     "text": [
      "\n",
      "para k = 24 , acc = 0.997448803695787\n",
      "para k = 24 , precision = 0.9976109323734591\n",
      "para k = 24 , recall = 0.9964999363624794\n",
      "para k = 24 , f1 = 0.9970551248786235\n",
      "\n",
      "para k = 26 , acc = 0.9989381507274357\n",
      "para k = 26 , precision = 0.9990449205692273\n",
      "para k = 26 , recall = 0.9985045182639685\n",
      "para k = 26 , f1 = 0.9987746463183692\n",
      "\n",
      "para k = 28 , acc = 0.9995311314900366\n",
      "para k = 28 , precision = 0.999713485292245\n",
      "para k = 28 , recall = 0.9992045309914726\n",
      "para k = 28 , f1 = 0.9994589433481857\n",
      "\n",
      "para k = 30 , acc = 0.9998896779976557\n",
      "para k = 30 , precision = 0.9998727249586357\n",
      "para k = 30 , recall = 0.9998727249586357\n",
      "para k = 30 , f1 = 0.9998727249586357\n",
      "\n",
      "para k = 32 , acc = 1.0\n",
      "para k = 32 , precision = 1.0\n",
      "para k = 32 , recall = 1.0\n",
      "para k = 32 , f1 = 1.0\n",
      "\n",
      "para k = 34 , acc = 1.0\n",
      "para k = 34 , precision = 1.0\n",
      "para k = 34 , recall = 1.0\n",
      "para k = 34 , f1 = 1.0\n",
      "\n",
      "para k = 36 , acc = 1.0\n",
      "para k = 36 , precision = 1.0\n",
      "para k = 36 , recall = 1.0\n",
      "para k = 36 , f1 = 1.0\n"
     ]
    }
   ],
   "source": [
    "acc_score_train = []\n",
    "precision_score_train = []\n",
    "recall_score_train = []\n",
    "f1_score_train = []\n",
    "\n",
    "for k in range(24,37,2): \n",
    "        #model definition\n",
    "        dt_model_train = tr.DecisionTreeClassifier(max_depth = k)\n",
    "\n",
    "        #model training\n",
    "        dt_model_train.fit(x_train, y_train)\n",
    "\n",
    "        #model prediction\n",
    "        yhat_dt_train = dt_model_train.predict(x_train)\n",
    "        \n",
    "        acc_train = mt.accuracy_score(y_train, yhat_dt_train)\n",
    "        precision_train = mt.precision_score(y_train, yhat_dt_train)\n",
    "        recall_train = mt.recall_score(y_train, yhat_dt_train)\n",
    "        f1_train = mt.f1_score(y_train, yhat_dt_train)\n",
    "        \n",
    "        acc_score_train.append(acc_train)\n",
    "        precision_score_train.append(precision_train)\n",
    "        recall_score_train.append(recall_train)\n",
    "        f1_score_train.append(f1_train)\n",
    "        \n",
    "        \n",
    "        print ('\\npara k = {}'.format(k),', acc = {}'.format(acc_score_train[-1]))\n",
    "        print ('para k = {}'.format(k),', precision = {}'.format(precision_score_train[-1]))\n",
    "        print ('para k = {}'.format(k),', recall = {}'.format(recall_score_train[-1]))\n",
    "        print ('para k = {}'.format(k),', f1 = {}'.format(f1_score_train[-1]))"
   ]
  },
  {
   "attachments": {},
   "cell_type": "markdown",
   "metadata": {},
   "source": [
    "## 2.2 Validation"
   ]
  },
  {
   "cell_type": "code",
   "execution_count": null,
   "metadata": {},
   "outputs": [
    {
     "name": "stdout",
     "output_type": "stream",
     "text": [
      "\n",
      "para k = 26 , acc = 0.9459120306316162\n",
      "para k = 26 , precision = 0.9363986376425293\n",
      "para k = 26 , recall = 0.93897097037642\n",
      "para k = 26 , f1 = 0.9376830398517146\n",
      "\n",
      "para k = 28 , acc = 0.9449467486083851\n",
      "para k = 28 , precision = 0.9356105512744517\n",
      "para k = 28 , recall = 0.9374860791447026\n",
      "para k = 28 , f1 = 0.9365473762284442\n",
      "\n",
      "para k = 30 , acc = 0.9458798545641751\n",
      "para k = 30 , precision = 0.9353623402526409\n",
      "para k = 30 , recall = 0.9400846388002079\n",
      "para k = 30 , f1 = 0.937717544249426\n",
      "\n",
      "para k = 32 , acc = 0.9461050870362624\n",
      "para k = 32 , precision = 0.9375278231191572\n",
      "para k = 32 , recall = 0.9381542801989754\n",
      "para k = 32 , f1 = 0.9378409470441978\n",
      "\n",
      "para k = 34 , acc = 0.9463303195083497\n",
      "para k = 34 , precision = 0.9366535928365278\n",
      "para k = 34 , recall = 0.9397134159922785\n",
      "para k = 34 , f1 = 0.9381810095619302\n",
      "\n",
      "para k = 36 , acc = 0.9453328614176776\n",
      "para k = 36 , precision = 0.9357322671405301\n",
      "para k = 36 , recall = 0.9383027693221472\n",
      "para k = 36 , f1 = 0.9370157553290083\n"
     ]
    }
   ],
   "source": [
    "acc_score_val = []\n",
    "precision_score_val = []\n",
    "recall_score_val = []\n",
    "f1_score_val = []\n",
    "\n",
    "for k in range(26,37,2): \n",
    "        #model definition\n",
    "        dt_model_val = tr.DecisionTreeClassifier(max_depth = k)\n",
    "\n",
    "        #model training\n",
    "        dt_model_val.fit(x_train, y_train)\n",
    "\n",
    "        #model prediction\n",
    "        yhat_dt_val = dt_model_val.predict(x_val)\n",
    "        \n",
    "        acc_val = mt.accuracy_score(y_val, yhat_dt_val)\n",
    "        precision_val = mt.precision_score(y_val, yhat_dt_val)\n",
    "        recall_val = mt.recall_score(y_val, yhat_dt_val)\n",
    "        f1_val = mt.f1_score(y_val, yhat_dt_val)\n",
    "        \n",
    "        acc_score_val.append(acc_val)\n",
    "        precision_score_val.append(precision_val)\n",
    "        recall_score_val.append(recall_val)\n",
    "        f1_score_val.append(f1_val)\n",
    "        \n",
    "        \n",
    "        print ('\\npara k = {}'.format(k),', acc = {}'.format(acc_score_val[-1]))\n",
    "        print ('para k = {}'.format(k),', precision = {}'.format(precision_score_val[-1]))\n",
    "        print ('para k = {}'.format(k),', recall = {}'.format(recall_score_val[-1]))\n",
    "        print ('para k = {}'.format(k),', f1 = {}'.format(f1_score_val[-1]))"
   ]
  },
  {
   "attachments": {},
   "cell_type": "markdown",
   "metadata": {},
   "source": [
    "## 2.3 Test"
   ]
  },
  {
   "cell_type": "code",
   "execution_count": null,
   "metadata": {},
   "outputs": [
    {
     "name": "stdout",
     "output_type": "stream",
     "text": [
      "\n",
      "para k = 26 , acc = 0.9473989109025606\n",
      "para k = 26 , precision = 0.9400017594791942\n",
      "para k = 26 , recall = 0.9401671799384074\n",
      "para k = 26 , f1 = 0.9400844624318142\n",
      "\n",
      "para k = 28 , acc = 0.9467037423241803\n",
      "para k = 28 , precision = 0.9392099938418228\n",
      "para k = 28 , recall = 0.939375274967004\n",
      "para k = 28 , f1 = 0.9392926271335562\n",
      "\n",
      "para k = 30 , acc = 0.9471671880431004\n",
      "para k = 30 , precision = 0.9393513228443351\n",
      "para k = 30 , recall = 0.9403431588209414\n",
      "para k = 30 , f1 = 0.9398469791575059\n",
      "\n",
      "para k = 32 , acc = 0.9467809832773336\n",
      "para k = 32 , precision = 0.938989010989011\n",
      "para k = 32 , recall = 0.9398152221733392\n",
      "para k = 32 , f1 = 0.9394019349164469\n",
      "\n",
      "para k = 34 , acc = 0.9460085737458\n",
      "para k = 34 , precision = 0.9368042773249189\n",
      "para k = 34 , recall = 0.9404311482622085\n",
      "para k = 34 , f1 = 0.9386142091859138\n",
      "\n",
      "para k = 36 , acc = 0.9464720194647201\n",
      "para k = 36 , precision = 0.937253527298221\n",
      "para k = 36 , recall = 0.9410470743510778\n",
      "para k = 36 , f1 = 0.9391464699683878\n"
     ]
    }
   ],
   "source": [
    "acc_score_test = []\n",
    "precision_score_test = []\n",
    "recall_score_test = []\n",
    "f1_score_test = []\n",
    "\n",
    "for k in range(26,37,2): \n",
    "        #model definition\n",
    "        dt_model_test = tr.DecisionTreeClassifier(max_depth = k)\n",
    "\n",
    "        #model training\n",
    "        dt_model_test.fit(np.concatenate((x_train,x_val)),np.concatenate((y_train,y_val)))\n",
    "        #model prediction\n",
    "        yhat_dt_test = dt_model_test.predict(x_test)\n",
    "        \n",
    "        acc_test = mt.accuracy_score(y_test, yhat_dt_test)\n",
    "        precision_test = mt.precision_score(y_test, yhat_dt_test)\n",
    "        recall_test = mt.recall_score(y_test, yhat_dt_test)\n",
    "        f1_test = mt.f1_score(y_test, yhat_dt_test)\n",
    "        \n",
    "        acc_score_test.append(acc_test)\n",
    "        precision_score_test.append(precision_test)\n",
    "        recall_score_test.append(recall_test)\n",
    "        f1_score_test.append(f1_test)\n",
    "        \n",
    "        \n",
    "        print ('\\npara k = {}'.format(k),', acc = {}'.format(acc_score_test[-1]))\n",
    "        print ('para k = {}'.format(k),', precision = {}'.format(precision_score_test[-1]))\n",
    "        print ('para k = {}'.format(k),', recall = {}'.format(recall_score_test[-1]))\n",
    "        print ('para k = {}'.format(k),', f1 = {}'.format(f1_score_test[-1]))"
   ]
  },
  {
   "attachments": {},
   "cell_type": "markdown",
   "metadata": {},
   "source": [
    "# 3.0 Random Forest"
   ]
  },
  {
   "attachments": {},
   "cell_type": "markdown",
   "metadata": {},
   "source": [
    "## 3.1 Train"
   ]
  },
  {
   "cell_type": "code",
   "execution_count": null,
   "metadata": {},
   "outputs": [
    {
     "name": "stderr",
     "output_type": "stream",
     "text": [
      "c:\\Users\\rseme\\anaconda3\\envs\\ensaiosML\\lib\\site-packages\\sklearn\\base.py:1151: DataConversionWarning: A column-vector y was passed when a 1d array was expected. Please change the shape of y to (n_samples,), for example using ravel().\n",
      "  return fit_method(estimator, *args, **kwargs)\n"
     ]
    },
    {
     "name": "stdout",
     "output_type": "stream",
     "text": [
      "\n",
      "para k = 24 , acc = 0.9993380679859339\n",
      "para k = 24 , precision = 0.99993627326026\n",
      "para k = 24 , recall = 0.9985363370243096\n",
      "para k = 24 , f1 = 0.9992358148124562\n"
     ]
    },
    {
     "name": "stderr",
     "output_type": "stream",
     "text": [
      "c:\\Users\\rseme\\anaconda3\\envs\\ensaiosML\\lib\\site-packages\\sklearn\\base.py:1151: DataConversionWarning: A column-vector y was passed when a 1d array was expected. Please change the shape of y to (n_samples,), for example using ravel().\n",
      "  return fit_method(estimator, *args, **kwargs)\n"
     ]
    },
    {
     "name": "stdout",
     "output_type": "stream",
     "text": [
      "\n",
      "para k = 26 , acc = 0.9996414534923809\n",
      "para k = 26 , precision = 0.999968156922685\n",
      "para k = 26 , recall = 0.9992045309914726\n",
      "para k = 26 , f1 = 0.9995861981156099\n"
     ]
    },
    {
     "name": "stderr",
     "output_type": "stream",
     "text": [
      "c:\\Users\\rseme\\anaconda3\\envs\\ensaiosML\\lib\\site-packages\\sklearn\\base.py:1151: DataConversionWarning: A column-vector y was passed when a 1d array was expected. Please change the shape of y to (n_samples,), for example using ravel().\n",
      "  return fit_method(estimator, *args, **kwargs)\n"
     ]
    },
    {
     "name": "stdout",
     "output_type": "stream",
     "text": [
      "\n",
      "para k = 28 , acc = 0.9999310487485348\n",
      "para k = 28 , precision = 1.0\n",
      "para k = 28 , recall = 0.9998409061982945\n",
      "para k = 28 , f1 = 0.9999204467709344\n"
     ]
    },
    {
     "name": "stderr",
     "output_type": "stream",
     "text": [
      "c:\\Users\\rseme\\anaconda3\\envs\\ensaiosML\\lib\\site-packages\\sklearn\\base.py:1151: DataConversionWarning: A column-vector y was passed when a 1d array was expected. Please change the shape of y to (n_samples,), for example using ravel().\n",
      "  return fit_method(estimator, *args, **kwargs)\n"
     ]
    },
    {
     "name": "stdout",
     "output_type": "stream",
     "text": [
      "\n",
      "para k = 30 , acc = 1.0\n",
      "para k = 30 , precision = 1.0\n",
      "para k = 30 , recall = 1.0\n",
      "para k = 30 , f1 = 1.0\n"
     ]
    },
    {
     "name": "stderr",
     "output_type": "stream",
     "text": [
      "c:\\Users\\rseme\\anaconda3\\envs\\ensaiosML\\lib\\site-packages\\sklearn\\base.py:1151: DataConversionWarning: A column-vector y was passed when a 1d array was expected. Please change the shape of y to (n_samples,), for example using ravel().\n",
      "  return fit_method(estimator, *args, **kwargs)\n"
     ]
    },
    {
     "name": "stdout",
     "output_type": "stream",
     "text": [
      "\n",
      "para k = 32 , acc = 1.0\n",
      "para k = 32 , precision = 1.0\n",
      "para k = 32 , recall = 1.0\n",
      "para k = 32 , f1 = 1.0\n"
     ]
    },
    {
     "name": "stderr",
     "output_type": "stream",
     "text": [
      "c:\\Users\\rseme\\anaconda3\\envs\\ensaiosML\\lib\\site-packages\\sklearn\\base.py:1151: DataConversionWarning: A column-vector y was passed when a 1d array was expected. Please change the shape of y to (n_samples,), for example using ravel().\n",
      "  return fit_method(estimator, *args, **kwargs)\n"
     ]
    },
    {
     "name": "stdout",
     "output_type": "stream",
     "text": [
      "\n",
      "para k = 34 , acc = 1.0\n",
      "para k = 34 , precision = 1.0\n",
      "para k = 34 , recall = 1.0\n",
      "para k = 34 , f1 = 1.0\n"
     ]
    },
    {
     "name": "stderr",
     "output_type": "stream",
     "text": [
      "c:\\Users\\rseme\\anaconda3\\envs\\ensaiosML\\lib\\site-packages\\sklearn\\base.py:1151: DataConversionWarning: A column-vector y was passed when a 1d array was expected. Please change the shape of y to (n_samples,), for example using ravel().\n",
      "  return fit_method(estimator, *args, **kwargs)\n"
     ]
    },
    {
     "name": "stdout",
     "output_type": "stream",
     "text": [
      "\n",
      "para k = 36 , acc = 1.0\n",
      "para k = 36 , precision = 1.0\n",
      "para k = 36 , recall = 1.0\n",
      "para k = 36 , f1 = 1.0\n"
     ]
    }
   ],
   "source": [
    "acc_score_train = []\n",
    "precision_score_train = []\n",
    "recall_score_train = []\n",
    "f1_score_train = []\n",
    "\n",
    "for k in range(29,40,5): \n",
    "        #model definition\n",
    "        rf_model_train = RandomForestClassifier(max_depth = k)\n",
    "\n",
    "        #model training\n",
    "        rf_model_train.fit(x_train, y_train)\n",
    "\n",
    "        #model prediction\n",
    "        yhat_rf_train = rf_model_train.predict(x_train)\n",
    "        \n",
    "        acc_train = mt.accuracy_score(y_train, yhat_rf_train)\n",
    "        precision_train = mt.precision_score(y_train, yhat_rf_train)\n",
    "        recall_train = mt.recall_score(y_train, yhat_rf_train)\n",
    "        f1_train = mt.f1_score(y_train, yhat_rf_train)\n",
    "        \n",
    "        acc_score_train.append(acc_train)\n",
    "        precision_score_train.append(precision_train)\n",
    "        recall_score_train.append(recall_train)\n",
    "        f1_score_train.append(f1_train)\n",
    "        \n",
    "        \n",
    "        print ('\\npara k = {}'.format(k),', acc = {}'.format(acc_score_train[-1]))\n",
    "        print ('para k = {}'.format(k),', precision = {}'.format(precision_score_train[-1]))\n",
    "        print ('para k = {}'.format(k),', recall = {}'.format(recall_score_train[-1]))\n",
    "        print ('para k = {}'.format(k),', f1 = {}'.format(f1_score_train[-1]))"
   ]
  },
  {
   "cell_type": "code",
   "execution_count": null,
   "metadata": {},
   "outputs": [
    {
     "name": "stderr",
     "output_type": "stream",
     "text": [
      "c:\\Users\\rseme\\anaconda3\\envs\\ensaiosML\\lib\\site-packages\\sklearn\\base.py:1151: DataConversionWarning: A column-vector y was passed when a 1d array was expected. Please change the shape of y to (n_samples,), for example using ravel().\n",
      "  return fit_method(estimator, *args, **kwargs)\n"
     ]
    },
    {
     "name": "stdout",
     "output_type": "stream",
     "text": [
      "\n",
      "para k = 65 , acc = 0.999972419499414\n",
      "para k = 65 , precision = 1.0\n",
      "para k = 65 , recall = 0.9999363624793178\n",
      "para k = 65 , f1 = 0.9999681802271931\n"
     ]
    },
    {
     "name": "stderr",
     "output_type": "stream",
     "text": [
      "c:\\Users\\rseme\\anaconda3\\envs\\ensaiosML\\lib\\site-packages\\sklearn\\base.py:1151: DataConversionWarning: A column-vector y was passed when a 1d array was expected. Please change the shape of y to (n_samples,), for example using ravel().\n",
      "  return fit_method(estimator, *args, **kwargs)\n"
     ]
    },
    {
     "name": "stdout",
     "output_type": "stream",
     "text": [
      "\n",
      "para k = 75 , acc = 0.9999586292491208\n",
      "para k = 75 , precision = 0.9999681802271931\n",
      "para k = 75 , recall = 0.9999363624793178\n",
      "para k = 75 , f1 = 0.9999522711001512\n"
     ]
    },
    {
     "name": "stderr",
     "output_type": "stream",
     "text": [
      "c:\\Users\\rseme\\anaconda3\\envs\\ensaiosML\\lib\\site-packages\\sklearn\\base.py:1151: DataConversionWarning: A column-vector y was passed when a 1d array was expected. Please change the shape of y to (n_samples,), for example using ravel().\n",
      "  return fit_method(estimator, *args, **kwargs)\n"
     ]
    },
    {
     "name": "stdout",
     "output_type": "stream",
     "text": [
      "\n",
      "para k = 85 , acc = 1.0\n",
      "para k = 85 , precision = 1.0\n",
      "para k = 85 , recall = 1.0\n",
      "para k = 85 , f1 = 1.0\n"
     ]
    },
    {
     "name": "stderr",
     "output_type": "stream",
     "text": [
      "c:\\Users\\rseme\\anaconda3\\envs\\ensaiosML\\lib\\site-packages\\sklearn\\base.py:1151: DataConversionWarning: A column-vector y was passed when a 1d array was expected. Please change the shape of y to (n_samples,), for example using ravel().\n",
      "  return fit_method(estimator, *args, **kwargs)\n"
     ]
    },
    {
     "name": "stdout",
     "output_type": "stream",
     "text": [
      "\n",
      "para k = 95 , acc = 1.0\n",
      "para k = 95 , precision = 1.0\n",
      "para k = 95 , recall = 1.0\n",
      "para k = 95 , f1 = 1.0\n"
     ]
    }
   ],
   "source": [
    "acc_score_train = []\n",
    "precision_score_train = []\n",
    "recall_score_train = []\n",
    "f1_score_train = []\n",
    "\n",
    "for k in range(65,101,10): \n",
    "        #model definition\n",
    "        rf_model_train = RandomForestClassifier(n_estimators= k)\n",
    "\n",
    "        #model training\n",
    "        rf_model_train.fit(x_train, y_train)\n",
    "\n",
    "        #model prediction\n",
    "        yhat_rf_train = rf_model_train.predict(x_train)\n",
    "        \n",
    "        acc_train = mt.accuracy_score(y_train, yhat_rf_train)\n",
    "        precision_train = mt.precision_score(y_train, yhat_rf_train)\n",
    "        recall_train = mt.recall_score(y_train, yhat_rf_train)\n",
    "        f1_train = mt.f1_score(y_train, yhat_rf_train)\n",
    "        \n",
    "        acc_score_train.append(acc_train)\n",
    "        precision_score_train.append(precision_train)\n",
    "        recall_score_train.append(recall_train)\n",
    "        f1_score_train.append(f1_train)\n",
    "        \n",
    "        \n",
    "        print ('\\npara k = {}'.format(k),', acc = {}'.format(acc_score_train[-1]))\n",
    "        print ('para k = {}'.format(k),', precision = {}'.format(precision_score_train[-1]))\n",
    "        print ('para k = {}'.format(k),', recall = {}'.format(recall_score_train[-1]))\n",
    "        print ('para k = {}'.format(k),', f1 = {}'.format(f1_score_train[-1]))"
   ]
  },
  {
   "attachments": {},
   "cell_type": "markdown",
   "metadata": {},
   "source": [
    "## 3.2 Validation"
   ]
  },
  {
   "cell_type": "code",
   "execution_count": null,
   "metadata": {},
   "outputs": [
    {
     "name": "stderr",
     "output_type": "stream",
     "text": [
      "c:\\Users\\rseme\\anaconda3\\envs\\ensaiosML\\lib\\site-packages\\sklearn\\base.py:1151: DataConversionWarning: A column-vector y was passed when a 1d array was expected. Please change the shape of y to (n_samples,), for example using ravel().\n",
      "  return fit_method(estimator, *args, **kwargs)\n"
     ]
    },
    {
     "name": "stdout",
     "output_type": "stream",
     "text": [
      "\n",
      "para k = 29 , acc = 0.964735030084623\n",
      "para k = 29 , precision = 0.9740976320024523\n",
      "para k = 29 , recall = 0.9437226223179153\n",
      "para k = 29 , f1 = 0.9586695829248058\n"
     ]
    },
    {
     "name": "stderr",
     "output_type": "stream",
     "text": [
      "c:\\Users\\rseme\\anaconda3\\envs\\ensaiosML\\lib\\site-packages\\sklearn\\base.py:1151: DataConversionWarning: A column-vector y was passed when a 1d array was expected. Please change the shape of y to (n_samples,), for example using ravel().\n",
      "  return fit_method(estimator, *args, **kwargs)\n"
     ]
    },
    {
     "name": "stdout",
     "output_type": "stream",
     "text": [
      "\n",
      "para k = 33 , acc = 0.9650889668264745\n",
      "para k = 33 , precision = 0.9749923289352562\n",
      "para k = 33 , recall = 0.9436483777563294\n",
      "para k = 33 , f1 = 0.9590643274853802\n"
     ]
    },
    {
     "name": "stderr",
     "output_type": "stream",
     "text": [
      "c:\\Users\\rseme\\anaconda3\\envs\\ensaiosML\\lib\\site-packages\\sklearn\\base.py:1151: DataConversionWarning: A column-vector y was passed when a 1d array was expected. Please change the shape of y to (n_samples,), for example using ravel().\n",
      "  return fit_method(estimator, *args, **kwargs)\n"
     ]
    },
    {
     "name": "stdout",
     "output_type": "stream",
     "text": [
      "\n",
      "para k = 37 , acc = 0.9648315582869462\n",
      "para k = 37 , precision = 0.9745398773006135\n",
      "para k = 37 , recall = 0.9434998886331576\n",
      "para k = 37 , f1 = 0.9587687200573389\n"
     ]
    }
   ],
   "source": [
    "acc_score_val = []\n",
    "precision_score_val = []\n",
    "recall_score_val = []\n",
    "f1_score_val = []\n",
    "\n",
    "for k in range(29,40,4): \n",
    "        #model definition\n",
    "        rf_model_val = RandomForestClassifier(max_depth = k)\n",
    "\n",
    "        #model training\n",
    "        rf_model_val.fit(x_train, y_train)\n",
    "\n",
    "        #model prediction\n",
    "        yhat_rf_val = rf_model_val.predict(x_val)\n",
    "        \n",
    "        acc_val = mt.accuracy_score(y_val, yhat_rf_val)\n",
    "        precision_val = mt.precision_score(y_val, yhat_rf_val)\n",
    "        recall_val = mt.recall_score(y_val, yhat_rf_val)\n",
    "        f1_val = mt.f1_score(y_val, yhat_rf_val)\n",
    "        \n",
    "        acc_score_val.append(acc_val)\n",
    "        precision_score_val.append(precision_val)\n",
    "        recall_score_val.append(recall_val)\n",
    "        f1_score_val.append(f1_val)\n",
    "        \n",
    "        \n",
    "        print ('\\npara k = {}'.format(k),', acc = {}'.format(acc_score_val[-1]))\n",
    "        print ('para k = {}'.format(k),', precision = {}'.format(precision_score_val[-1]))\n",
    "        print ('para k = {}'.format(k),', recall = {}'.format(recall_score_val[-1]))\n",
    "        print ('para k = {}'.format(k),', f1 = {}'.format(f1_score_val[-1]))"
   ]
  },
  {
   "cell_type": "code",
   "execution_count": null,
   "metadata": {},
   "outputs": [
    {
     "name": "stderr",
     "output_type": "stream",
     "text": [
      "c:\\Users\\rseme\\anaconda3\\envs\\ensaiosML\\lib\\site-packages\\sklearn\\base.py:1151: DataConversionWarning: A column-vector y was passed when a 1d array was expected. Please change the shape of y to (n_samples,), for example using ravel().\n",
      "  return fit_method(estimator, *args, **kwargs)\n"
     ]
    },
    {
     "name": "stdout",
     "output_type": "stream",
     "text": [
      "\n",
      "para k = 65 , acc = 0.9642202130055665\n",
      "para k = 65 , precision = 0.9722540701673928\n",
      "para k = 65 , recall = 0.9443908233721879\n",
      "para k = 65 , f1 = 0.9581199156372402\n"
     ]
    },
    {
     "name": "stderr",
     "output_type": "stream",
     "text": [
      "c:\\Users\\rseme\\anaconda3\\envs\\ensaiosML\\lib\\site-packages\\sklearn\\base.py:1151: DataConversionWarning: A column-vector y was passed when a 1d array was expected. Please change the shape of y to (n_samples,), for example using ravel().\n",
      "  return fit_method(estimator, *args, **kwargs)\n"
     ]
    },
    {
     "name": "stdout",
     "output_type": "stream",
     "text": [
      "\n",
      "para k = 75 , acc = 0.9641558608706844\n",
      "para k = 75 , precision = 0.9726834493840386\n",
      "para k = 75 , recall = 0.943796866879501\n",
      "para k = 75 , f1 = 0.9580224583615946\n"
     ]
    },
    {
     "name": "stderr",
     "output_type": "stream",
     "text": [
      "c:\\Users\\rseme\\anaconda3\\envs\\ensaiosML\\lib\\site-packages\\sklearn\\base.py:1151: DataConversionWarning: A column-vector y was passed when a 1d array was expected. Please change the shape of y to (n_samples,), for example using ravel().\n",
      "  return fit_method(estimator, *args, **kwargs)\n"
     ]
    },
    {
     "name": "stdout",
     "output_type": "stream",
     "text": [
      "\n",
      "para k = 85 , acc = 0.9650246146915924\n",
      "para k = 85 , precision = 0.9735352608230075\n",
      "para k = 85 , recall = 0.944984779864875\n",
      "para k = 85 , f1 = 0.9590475831669366\n"
     ]
    },
    {
     "name": "stderr",
     "output_type": "stream",
     "text": [
      "c:\\Users\\rseme\\anaconda3\\envs\\ensaiosML\\lib\\site-packages\\sklearn\\base.py:1151: DataConversionWarning: A column-vector y was passed when a 1d array was expected. Please change the shape of y to (n_samples,), for example using ravel().\n",
      "  return fit_method(estimator, *args, **kwargs)\n"
     ]
    },
    {
     "name": "stdout",
     "output_type": "stream",
     "text": [
      "\n",
      "para k = 95 , acc = 0.9642202130055665\n",
      "para k = 95 , precision = 0.9732669475296821\n",
      "para k = 95 , recall = 0.9433513995099859\n",
      "para k = 95 , f1 = 0.958075705021867\n"
     ]
    }
   ],
   "source": [
    "acc_score_val = []\n",
    "precision_score_val = []\n",
    "recall_score_val = []\n",
    "f1_score_val = []\n",
    "\n",
    "for k in range(65,101,10): \n",
    "        #model definition\n",
    "        rf_model_val = RandomForestClassifier(n_estimators= k)\n",
    "\n",
    "        #model training\n",
    "        rf_model_val.fit(x_train, y_train)\n",
    "\n",
    "        #model prediction\n",
    "        yhat_rf_val = rf_model_val.predict(x_val)\n",
    "        \n",
    "        acc_val = mt.accuracy_score(y_val, yhat_rf_val)\n",
    "        precision_val = mt.precision_score(y_val, yhat_rf_val)\n",
    "        recall_val = mt.recall_score(y_val, yhat_rf_val)\n",
    "        f1_val = mt.f1_score(y_val, yhat_rf_val)\n",
    "        \n",
    "        acc_score_val.append(acc_val)\n",
    "        precision_score_val.append(precision_val)\n",
    "        recall_score_val.append(recall_val)\n",
    "        f1_score_val.append(f1_val)\n",
    "        \n",
    "        \n",
    "        print ('\\npara k = {}'.format(k),', acc = {}'.format(acc_score_val[-1]))\n",
    "        print ('para k = {}'.format(k),', precision = {}'.format(precision_score_val[-1]))\n",
    "        print ('para k = {}'.format(k),', recall = {}'.format(recall_score_val[-1]))\n",
    "        print ('para k = {}'.format(k),', f1 = {}'.format(f1_score_val[-1]))"
   ]
  },
  {
   "cell_type": "code",
   "execution_count": null,
   "metadata": {},
   "outputs": [
    {
     "name": "stderr",
     "output_type": "stream",
     "text": [
      "c:\\Users\\rseme\\anaconda3\\envs\\ensaiosML\\lib\\site-packages\\sklearn\\base.py:1151: DataConversionWarning: A column-vector y was passed when a 1d array was expected. Please change the shape of y to (n_samples,), for example using ravel().\n",
      "  return fit_method(estimator, *args, **kwargs)\n"
     ]
    },
    {
     "name": "stdout",
     "output_type": "stream",
     "text": [
      " acc = 0.9641558608706844\n",
      " precision = 0.972900558830284\n",
      " recall = 0.9435741331947435\n",
      " f1 = 0.9580129654756521\n"
     ]
    }
   ],
   "source": [
    "\n",
    "rf_model_val = RandomForestClassifier(n_estimators= 85,max_depth=33)\n",
    "\n",
    "#model training\n",
    "rf_model_val.fit(x_train, y_train)\n",
    "\n",
    "#model prediction\n",
    "yhat_rf_val = rf_model_val.predict(x_val)\n",
    "\n",
    "acc_val = mt.accuracy_score(y_val, yhat_rf_val)\n",
    "precision_val = mt.precision_score(y_val, yhat_rf_val)\n",
    "recall_val = mt.recall_score(y_val, yhat_rf_val)\n",
    "f1_val = mt.f1_score(y_val, yhat_rf_val)\n",
    "\n",
    "print (' acc = {}'.format(acc_score_val[-1]))\n",
    "print (' precision = {}'.format(precision_score_val[-1]))\n",
    "print (' recall = {}'.format(recall_score_val[-1]))\n",
    "print (' f1 = {}'.format(f1_score_val[-1]))"
   ]
  },
  {
   "attachments": {},
   "cell_type": "markdown",
   "metadata": {},
   "source": [
    "## 3.3 Test"
   ]
  },
  {
   "cell_type": "code",
   "execution_count": 176,
   "metadata": {},
   "outputs": [
    {
     "name": "stderr",
     "output_type": "stream",
     "text": [
      "c:\\Users\\rseme\\anaconda3\\envs\\ensaiosML\\lib\\site-packages\\sklearn\\base.py:1151: DataConversionWarning: A column-vector y was passed when a 1d array was expected. Please change the shape of y to (n_samples,), for example using ravel().\n",
      "  return fit_method(estimator, *args, **kwargs)\n"
     ]
    },
    {
     "name": "stdout",
     "output_type": "stream",
     "text": [
      " acc = 0.9464720194647201\n",
      " precision = 0.937253527298221\n",
      " recall = 0.9410470743510778\n",
      " f1 = 0.9391464699683878\n"
     ]
    }
   ],
   "source": [
    "rf_model_test = RandomForestClassifier(n_estimators= 85,max_depth=33)\n",
    "\n",
    "#model training\n",
    "rf_model_test.fit(np.concatenate((x_train,x_val)),np.concatenate((y_train,y_val)))\n",
    "\n",
    "#model prediction\n",
    "yhat_rf_test = rf_model_test.predict(x_test)\n",
    "\n",
    "acc_test = mt.accuracy_score(y_test, yhat_rf_test)\n",
    "precision_test = mt.precision_score(y_test, yhat_rf_test)\n",
    "recall_test = mt.recall_score(y_test, yhat_rf_test)\n",
    "f1_test = mt.f1_score(y_test, yhat_rf_test)\n",
    "\n",
    "print (' acc = {}'.format(acc_score_test[-1]))\n",
    "print (' precision = {}'.format(precision_score_test[-1]))\n",
    "print (' recall = {}'.format(recall_score_test[-1]))\n",
    "print (' f1 = {}'.format(f1_score_test[-1]))"
   ]
  },
  {
   "attachments": {},
   "cell_type": "markdown",
   "metadata": {},
   "source": [
    "# 4.0 Logistic Regression"
   ]
  },
  {
   "cell_type": "markdown",
   "metadata": {},
   "source": [
    "## 4.1 Train"
   ]
  },
  {
   "cell_type": "code",
   "execution_count": 170,
   "metadata": {},
   "outputs": [
    {
     "name": "stderr",
     "output_type": "stream",
     "text": [
      "c:\\Users\\rseme\\anaconda3\\envs\\ensaiosML\\lib\\site-packages\\sklearn\\utils\\validation.py:1184: DataConversionWarning: A column-vector y was passed when a 1d array was expected. Please change the shape of y to (n_samples, ), for example using ravel().\n",
      "  y = column_or_1d(y, warn=True)\n",
      "c:\\Users\\rseme\\anaconda3\\envs\\ensaiosML\\lib\\site-packages\\sklearn\\svm\\_base.py:1242: ConvergenceWarning: Liblinear failed to converge, increase the number of iterations.\n",
      "  warnings.warn(\n",
      "c:\\Users\\rseme\\anaconda3\\envs\\ensaiosML\\lib\\site-packages\\sklearn\\utils\\validation.py:1184: DataConversionWarning: A column-vector y was passed when a 1d array was expected. Please change the shape of y to (n_samples, ), for example using ravel().\n",
      "  y = column_or_1d(y, warn=True)\n"
     ]
    },
    {
     "name": "stdout",
     "output_type": "stream",
     "text": [
      "\n",
      "para k = 10 , acc = 0.5667241260428877\n",
      "para k = 10 , precision = 0.5918367346938775\n",
      "para k = 10 , recall = 0.0009227440498918162\n",
      "para k = 10 , f1 = 0.001842615242875751\n",
      "\n",
      "para k = 35 , acc = 0.793256567606702\n",
      "para k = 35 , precision = 0.7292201271895571\n",
      "para k = 35 , recall = 0.8318696703576429\n",
      "para k = 35 , f1 = 0.7771700356718193\n"
     ]
    },
    {
     "name": "stderr",
     "output_type": "stream",
     "text": [
      "c:\\Users\\rseme\\anaconda3\\envs\\ensaiosML\\lib\\site-packages\\sklearn\\utils\\validation.py:1184: DataConversionWarning: A column-vector y was passed when a 1d array was expected. Please change the shape of y to (n_samples, ), for example using ravel().\n",
      "  y = column_or_1d(y, warn=True)\n"
     ]
    },
    {
     "name": "stdout",
     "output_type": "stream",
     "text": [
      "\n",
      "para k = 60 , acc = 0.793256567606702\n",
      "para k = 60 , precision = 0.7292201271895571\n",
      "para k = 60 , recall = 0.8318696703576429\n",
      "para k = 60 , f1 = 0.7771700356718193\n"
     ]
    },
    {
     "name": "stderr",
     "output_type": "stream",
     "text": [
      "c:\\Users\\rseme\\anaconda3\\envs\\ensaiosML\\lib\\site-packages\\sklearn\\utils\\validation.py:1184: DataConversionWarning: A column-vector y was passed when a 1d array was expected. Please change the shape of y to (n_samples, ), for example using ravel().\n",
      "  y = column_or_1d(y, warn=True)\n"
     ]
    },
    {
     "name": "stdout",
     "output_type": "stream",
     "text": [
      "\n",
      "para k = 85 , acc = 0.793256567606702\n",
      "para k = 85 , precision = 0.7292201271895571\n",
      "para k = 85 , recall = 0.8318696703576429\n",
      "para k = 85 , f1 = 0.7771700356718193\n"
     ]
    }
   ],
   "source": [
    "acc_score_train = []\n",
    "precision_score_train = []\n",
    "recall_score_train = []\n",
    "f1_score_train = []\n",
    "\n",
    "for k in range(10,100,25): \n",
    "        #model definition\n",
    "        lr_model_train = LogisticRegression(solver= 'liblinear', max_iter=k, C=0.1)\n",
    "\n",
    "        #model training\n",
    "        lr_model_train.fit(x_train, y_train)\n",
    "\n",
    "        #model prediction\n",
    "        yhat_lr_train = lr_model_train.predict(x_train)\n",
    "        \n",
    "        acc_train = mt.accuracy_score(y_train, yhat_lr_train)\n",
    "        precision_train = mt.precision_score(y_train, yhat_lr_train)\n",
    "        recall_train = mt.recall_score(y_train, yhat_lr_train)\n",
    "        f1_train = mt.f1_score(y_train, yhat_lr_train)\n",
    "        \n",
    "        acc_score_train.append(acc_train)\n",
    "        precision_score_train.append(precision_train)\n",
    "        recall_score_train.append(recall_train)\n",
    "        f1_score_train.append(f1_train)\n",
    "        \n",
    "        \n",
    "        print ('\\npara k = {}'.format(k),', acc = {}'.format(acc_score_train[-1]))\n",
    "        print ('para k = {}'.format(k),', precision = {}'.format(precision_score_train[-1]))\n",
    "        print ('para k = {}'.format(k),', recall = {}'.format(recall_score_train[-1]))\n",
    "        print ('para k = {}'.format(k),', f1 = {}'.format(f1_score_train[-1]))"
   ]
  },
  {
   "cell_type": "code",
   "execution_count": 174,
   "metadata": {},
   "outputs": [
    {
     "name": "stderr",
     "output_type": "stream",
     "text": [
      "c:\\Users\\rseme\\anaconda3\\envs\\ensaiosML\\lib\\site-packages\\sklearn\\utils\\validation.py:1184: DataConversionWarning: A column-vector y was passed when a 1d array was expected. Please change the shape of y to (n_samples, ), for example using ravel().\n",
      "  y = column_or_1d(y, warn=True)\n",
      "c:\\Users\\rseme\\anaconda3\\envs\\ensaiosML\\lib\\site-packages\\sklearn\\svm\\_base.py:1242: ConvergenceWarning: Liblinear failed to converge, increase the number of iterations.\n",
      "  warnings.warn(\n",
      "c:\\Users\\rseme\\anaconda3\\envs\\ensaiosML\\lib\\site-packages\\sklearn\\utils\\validation.py:1184: DataConversionWarning: A column-vector y was passed when a 1d array was expected. Please change the shape of y to (n_samples, ), for example using ravel().\n",
      "  y = column_or_1d(y, warn=True)\n"
     ]
    },
    {
     "name": "stdout",
     "output_type": "stream",
     "text": [
      "\n",
      "para k = 10 , acc = 0.5667241260428877\n",
      "para k = 10 , precision = 0.5918367346938775\n",
      "para k = 10 , recall = 0.0009227440498918162\n",
      "para k = 10 , f1 = 0.001842615242875751\n",
      "\n",
      "para k = 35 , acc = 0.793256567606702\n",
      "para k = 35 , precision = 0.7292201271895571\n",
      "para k = 35 , recall = 0.8318696703576429\n",
      "para k = 35 , f1 = 0.7771700356718193\n"
     ]
    },
    {
     "name": "stderr",
     "output_type": "stream",
     "text": [
      "c:\\Users\\rseme\\anaconda3\\envs\\ensaiosML\\lib\\site-packages\\sklearn\\utils\\validation.py:1184: DataConversionWarning: A column-vector y was passed when a 1d array was expected. Please change the shape of y to (n_samples, ), for example using ravel().\n",
      "  y = column_or_1d(y, warn=True)\n"
     ]
    },
    {
     "name": "stdout",
     "output_type": "stream",
     "text": [
      "\n",
      "para k = 60 , acc = 0.793256567606702\n",
      "para k = 60 , precision = 0.7292201271895571\n",
      "para k = 60 , recall = 0.8318696703576429\n",
      "para k = 60 , f1 = 0.7771700356718193\n"
     ]
    },
    {
     "name": "stderr",
     "output_type": "stream",
     "text": [
      "c:\\Users\\rseme\\anaconda3\\envs\\ensaiosML\\lib\\site-packages\\sklearn\\utils\\validation.py:1184: DataConversionWarning: A column-vector y was passed when a 1d array was expected. Please change the shape of y to (n_samples, ), for example using ravel().\n",
      "  y = column_or_1d(y, warn=True)\n"
     ]
    },
    {
     "name": "stdout",
     "output_type": "stream",
     "text": [
      "\n",
      "para k = 85 , acc = 0.793256567606702\n",
      "para k = 85 , precision = 0.7292201271895571\n",
      "para k = 85 , recall = 0.8318696703576429\n",
      "para k = 85 , f1 = 0.7771700356718193\n"
     ]
    }
   ],
   "source": [
    "acc_score_train = []\n",
    "precision_score_train = []\n",
    "recall_score_train = []\n",
    "f1_score_train = []\n",
    "\n",
    "for k in range(10,100,25): \n",
    "        #model definition\n",
    "        lr_model_train = LogisticRegression(solver= 'liblinear', max_iter=k, C=0.1)\n",
    "\n",
    "        #model training\n",
    "        lr_model_train.fit(x_train, y_train)\n",
    "\n",
    "        #model prediction\n",
    "        yhat_lr_train = lr_model_train.predict(x_train)\n",
    "        \n",
    "        acc_train = mt.accuracy_score(y_train, yhat_lr_train)\n",
    "        precision_train = mt.precision_score(y_train, yhat_lr_train)\n",
    "        recall_train = mt.recall_score(y_train, yhat_lr_train)\n",
    "        f1_train = mt.f1_score(y_train, yhat_lr_train)\n",
    "        \n",
    "        acc_score_train.append(acc_train)\n",
    "        precision_score_train.append(precision_train)\n",
    "        recall_score_train.append(recall_train)\n",
    "        f1_score_train.append(f1_train)\n",
    "        \n",
    "        \n",
    "        print ('\\npara k = {}'.format(k),', acc = {}'.format(acc_score_train[-1]))\n",
    "        print ('para k = {}'.format(k),', precision = {}'.format(precision_score_train[-1]))\n",
    "        print ('para k = {}'.format(k),', recall = {}'.format(recall_score_train[-1]))\n",
    "        print ('para k = {}'.format(k),', f1 = {}'.format(f1_score_train[-1]))"
   ]
  },
  {
   "attachments": {},
   "cell_type": "markdown",
   "metadata": {},
   "source": [
    "## 4.2 Validation"
   ]
  },
  {
   "cell_type": "code",
   "execution_count": 10,
   "metadata": {},
   "outputs": [
    {
     "name": "stderr",
     "output_type": "stream",
     "text": [
      "c:\\Users\\rseme\\anaconda3\\envs\\ensaiosML\\lib\\site-packages\\sklearn\\utils\\validation.py:1184: DataConversionWarning: A column-vector y was passed when a 1d array was expected. Please change the shape of y to (n_samples, ), for example using ravel().\n",
      "  y = column_or_1d(y, warn=True)\n"
     ]
    },
    {
     "name": "stdout",
     "output_type": "stream",
     "text": [
      " acc = 0.7945558093889765\n",
      " precision = 0.7313218390804598\n",
      " recall = 0.8313906006385032\n",
      " f1 = 0.7781522532226123\n"
     ]
    }
   ],
   "source": [
    "\n",
    "lr_model_val = LogisticRegression(solver= 'liblinear', max_iter=82, C=0.1)\n",
    "\n",
    "#model training\n",
    "lr_model_val.fit(x_train, y_train)\n",
    "\n",
    "#model prediction\n",
    "yhat_lr_val = lr_model_val.predict(x_val)\n",
    "\n",
    "acc_val = mt.accuracy_score(y_val, yhat_lr_val)\n",
    "precision_val = mt.precision_score(y_val, yhat_lr_val)\n",
    "recall_val = mt.recall_score(y_val, yhat_lr_val)\n",
    "f1_val = mt.f1_score(y_val, yhat_lr_val)\n",
    "\n",
    "print (' acc = {}'.format(acc_val))\n",
    "print (' precision = {}'.format(precision_val))\n",
    "print (' recall = {}'.format(recall_val))\n",
    "print (' f1 = {}'.format(f1_val))"
   ]
  },
  {
   "attachments": {},
   "cell_type": "markdown",
   "metadata": {},
   "source": [
    "## 4.3 Test"
   ]
  },
  {
   "cell_type": "code",
   "execution_count": 14,
   "metadata": {},
   "outputs": [
    {
     "name": "stderr",
     "output_type": "stream",
     "text": [
      "c:\\Users\\rseme\\anaconda3\\envs\\ensaiosML\\lib\\site-packages\\sklearn\\utils\\validation.py:1184: DataConversionWarning: A column-vector y was passed when a 1d array was expected. Please change the shape of y to (n_samples, ), for example using ravel().\n",
      "  y = column_or_1d(y, warn=True)\n"
     ]
    },
    {
     "name": "stdout",
     "output_type": "stream",
     "text": [
      " acc = 0.641215772602634\n",
      " precision = 0.6298010759414487\n",
      " recall = 0.4429388473383194\n",
      " f1 = 0.5200950511416469\n"
     ]
    }
   ],
   "source": [
    "lr_model_test = LogisticRegression(solver= 'liblinear', max_iter=45, C=1)\n",
    "\n",
    "#model training\n",
    "lr_model_test.fit(np.concatenate((x_train,x_val)),np.concatenate((y_train,y_val)))\n",
    "\n",
    "#model prediction\n",
    "yhat_lr_test = lr_model_test.predict(x_test)\n",
    "\n",
    "acc_test = mt.accuracy_score(y_test, yhat_lr_test)\n",
    "precision_test = mt.precision_score(y_test, yhat_lr_test)\n",
    "recall_test = mt.recall_score(y_test, yhat_lr_test)\n",
    "f1_test = mt.f1_score(y_test, yhat_lr_test)\n",
    "\n",
    "print (' acc = {}'.format(acc_test))\n",
    "print (' precision = {}'.format(precision_test))\n",
    "print (' recall = {}'.format(recall_test))\n",
    "print (' f1 = {}'.format(f1_test))"
   ]
  }
 ],
 "metadata": {
  "kernelspec": {
   "display_name": "ensaiosML",
   "language": "python",
   "name": "python3"
  },
  "language_info": {
   "codemirror_mode": {
    "name": "ipython",
    "version": 3
   },
   "file_extension": ".py",
   "mimetype": "text/x-python",
   "name": "python",
   "nbconvert_exporter": "python",
   "pygments_lexer": "ipython3",
   "version": "3.10.14"
  },
  "orig_nbformat": 4
 },
 "nbformat": 4,
 "nbformat_minor": 2
}
