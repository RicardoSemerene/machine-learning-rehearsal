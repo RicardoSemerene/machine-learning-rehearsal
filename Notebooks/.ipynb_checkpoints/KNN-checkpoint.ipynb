{
 "cells": [
  {
   "cell_type": "code",
   "execution_count": 2,
   "id": "c97be0bc-7416-4b86-b1a3-572b544ab363",
   "metadata": {},
   "outputs": [],
   "source": [
    "## dsssssqa"
   ]
  },
  {
   "cell_type": "code",
   "execution_count": 7,
   "id": "d385f7c4-1f57-4bb5-a8a7-05c0aa3f6536",
   "metadata": {},
   "outputs": [],
   "source": [
    "## título 1"
   ]
  },
  {
   "cell_type": "markdown",
   "id": "967b36c3-c231-437c-b55a-c34a2cb17a8d",
   "metadata": {},
   "source": []
  },
  {
   "cell_type": "code",
   "execution_count": null,
   "id": "2c0a26a4-f564-49ff-8918-d272730066b4",
   "metadata": {},
   "outputs": [],
   "source": []
  },
  {
   "cell_type": "code",
   "execution_count": null,
   "id": "4da6b61e-e55c-4e32-b9a9-6cf504e13911",
   "metadata": {},
   "outputs": [],
   "source": []
  },
  {
   "cell_type": "code",
   "execution_count": null,
   "id": "c873f9f7-39d5-4d5c-8ad5-65d0f29123c4",
   "metadata": {},
   "outputs": [],
   "source": []
  },
  {
   "cell_type": "code",
   "execution_count": null,
   "id": "184a3128-92ef-4c58-be8c-7354db8a249f",
   "metadata": {},
   "outputs": [],
   "source": []
  }
 ],
 "metadata": {
  "kernelspec": {
   "display_name": "Python 3 (ipykernel)",
   "language": "python",
   "name": "python3"
  },
  "language_info": {
   "codemirror_mode": {
    "name": "ipython",
    "version": 3
   },
   "file_extension": ".py",
   "mimetype": "text/x-python",
   "name": "python",
   "nbconvert_exporter": "python",
   "pygments_lexer": "ipython3",
   "version": "3.8.17"
  }
 },
 "nbformat": 4,
 "nbformat_minor": 5
}
